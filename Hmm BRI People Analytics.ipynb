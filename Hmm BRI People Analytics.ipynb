{
 "cells": [
  {
   "cell_type": "code",
   "execution_count": 36,
   "id": "descending-giving",
   "metadata": {},
   "outputs": [],
   "source": [
    "import numpy as np\n",
    "import pandas as pd\n",
    "import matplotlib.pyplot as plt\n",
    "import seaborn as sns\n",
    "from sklearn.linear_model import LogisticRegression\n",
    "from sklearn.ensemble import RandomForestClassifier\n",
    "from sklearn.tree import DecisionTreeClassifier\n",
    "from sklearn.model_selection import train_test_split, cross_val_score, RepeatedStratifiedKFold\n",
    "from sklearn.metrics import roc_auc_score\n",
    "from sklearn.base import ClassifierMixin\n",
    "from imblearn.ensemble import BalancedBaggingClassifier\n",
    "from typing import Type"
   ]
  },
  {
   "cell_type": "code",
   "execution_count": 2,
   "id": "statewide-humanitarian",
   "metadata": {},
   "outputs": [],
   "source": [
    "pd.set_option('display.max_columns', None)\n",
    "sns.set()"
   ]
  },
  {
   "cell_type": "code",
   "execution_count": null,
   "id": "advisory-recipe",
   "metadata": {},
   "outputs": [],
   "source": []
  },
  {
   "cell_type": "markdown",
   "id": "extended-flood",
   "metadata": {},
   "source": [
    "# 1. Load Data"
   ]
  },
  {
   "cell_type": "code",
   "execution_count": 3,
   "id": "forward-independence",
   "metadata": {},
   "outputs": [],
   "source": [
    "df_train = pd.read_csv('./data/train.csv')\n",
    "df_test = pd.read_csv('./data/test.csv')"
   ]
  },
  {
   "cell_type": "code",
   "execution_count": 4,
   "id": "threatened-longitude",
   "metadata": {},
   "outputs": [
    {
     "data": {
      "text/plain": [
       "(11153, 22)"
      ]
     },
     "execution_count": 4,
     "metadata": {},
     "output_type": "execute_result"
    }
   ],
   "source": [
    "df_train.shape"
   ]
  },
  {
   "cell_type": "code",
   "execution_count": 5,
   "id": "radical-gregory",
   "metadata": {},
   "outputs": [
    {
     "data": {
      "text/plain": [
       "(6000, 21)"
      ]
     },
     "execution_count": 5,
     "metadata": {},
     "output_type": "execute_result"
    }
   ],
   "source": [
    "df_test.shape"
   ]
  },
  {
   "cell_type": "code",
   "execution_count": 6,
   "id": "ranging-temple",
   "metadata": {
    "scrolled": true
   },
   "outputs": [
    {
     "data": {
      "text/html": [
       "<div>\n",
       "<style scoped>\n",
       "    .dataframe tbody tr th:only-of-type {\n",
       "        vertical-align: middle;\n",
       "    }\n",
       "\n",
       "    .dataframe tbody tr th {\n",
       "        vertical-align: top;\n",
       "    }\n",
       "\n",
       "    .dataframe thead th {\n",
       "        text-align: right;\n",
       "    }\n",
       "</style>\n",
       "<table border=\"1\" class=\"dataframe\">\n",
       "  <thead>\n",
       "    <tr style=\"text-align: right;\">\n",
       "      <th></th>\n",
       "      <th>job_level</th>\n",
       "      <th>job_duration_in_current_job_level</th>\n",
       "      <th>person_level</th>\n",
       "      <th>job_duration_in_current_person_level</th>\n",
       "      <th>job_duration_in_current_branch</th>\n",
       "      <th>Employee_type</th>\n",
       "      <th>gender</th>\n",
       "      <th>age</th>\n",
       "      <th>marital_status_maried(Y/N)</th>\n",
       "      <th>number_of_dependences</th>\n",
       "      <th>Education_level</th>\n",
       "      <th>GPA</th>\n",
       "      <th>year_graduated</th>\n",
       "      <th>job_duration_from_training</th>\n",
       "      <th>branch_rotation</th>\n",
       "      <th>job_rotation</th>\n",
       "      <th>assign_of_otherposition</th>\n",
       "      <th>annual leave</th>\n",
       "      <th>sick_leaves</th>\n",
       "      <th>Last_achievement_%</th>\n",
       "      <th>Achievement_above_100%_during3quartal</th>\n",
       "      <th>Best Performance</th>\n",
       "    </tr>\n",
       "  </thead>\n",
       "  <tbody>\n",
       "    <tr>\n",
       "      <th>0</th>\n",
       "      <td>JG04</td>\n",
       "      <td>1.352775</td>\n",
       "      <td>PG03</td>\n",
       "      <td>1.352775</td>\n",
       "      <td>1.732051</td>\n",
       "      <td>RM_type_A</td>\n",
       "      <td>2</td>\n",
       "      <td>1985</td>\n",
       "      <td>Y</td>\n",
       "      <td>1</td>\n",
       "      <td>level_0</td>\n",
       "      <td>2.86</td>\n",
       "      <td>2011</td>\n",
       "      <td>4</td>\n",
       "      <td>2</td>\n",
       "      <td>3</td>\n",
       "      <td>2</td>\n",
       "      <td>3</td>\n",
       "      <td>0</td>\n",
       "      <td>46.37</td>\n",
       "      <td>0.0</td>\n",
       "      <td>0</td>\n",
       "    </tr>\n",
       "    <tr>\n",
       "      <th>1</th>\n",
       "      <td>JG04</td>\n",
       "      <td>1.292285</td>\n",
       "      <td>PG03</td>\n",
       "      <td>1.292285</td>\n",
       "      <td>1.039230</td>\n",
       "      <td>RM_type_A</td>\n",
       "      <td>2</td>\n",
       "      <td>1989</td>\n",
       "      <td>Y</td>\n",
       "      <td>0</td>\n",
       "      <td>level_1</td>\n",
       "      <td>7.28</td>\n",
       "      <td>2007</td>\n",
       "      <td>4</td>\n",
       "      <td>4</td>\n",
       "      <td>3</td>\n",
       "      <td>0</td>\n",
       "      <td>0</td>\n",
       "      <td>1</td>\n",
       "      <td>47.68</td>\n",
       "      <td>0.0</td>\n",
       "      <td>0</td>\n",
       "    </tr>\n",
       "    <tr>\n",
       "      <th>2</th>\n",
       "      <td>JG05</td>\n",
       "      <td>2.565151</td>\n",
       "      <td>PG06</td>\n",
       "      <td>2.308679</td>\n",
       "      <td>1.780449</td>\n",
       "      <td>RM_type_C</td>\n",
       "      <td>1</td>\n",
       "      <td>1970</td>\n",
       "      <td>Y</td>\n",
       "      <td>1</td>\n",
       "      <td>level_1</td>\n",
       "      <td>0.00</td>\n",
       "      <td>1989</td>\n",
       "      <td>28</td>\n",
       "      <td>10</td>\n",
       "      <td>9</td>\n",
       "      <td>6</td>\n",
       "      <td>2</td>\n",
       "      <td>1</td>\n",
       "      <td>40.73</td>\n",
       "      <td>0.0</td>\n",
       "      <td>0</td>\n",
       "    </tr>\n",
       "    <tr>\n",
       "      <th>3</th>\n",
       "      <td>JG05</td>\n",
       "      <td>2.828427</td>\n",
       "      <td>PG06</td>\n",
       "      <td>1.000000</td>\n",
       "      <td>1.385641</td>\n",
       "      <td>RM_type_A</td>\n",
       "      <td>2</td>\n",
       "      <td>1967</td>\n",
       "      <td>Y</td>\n",
       "      <td>2</td>\n",
       "      <td>level_1</td>\n",
       "      <td>0.00</td>\n",
       "      <td>1987</td>\n",
       "      <td>29</td>\n",
       "      <td>11</td>\n",
       "      <td>6</td>\n",
       "      <td>0</td>\n",
       "      <td>4</td>\n",
       "      <td>10</td>\n",
       "      <td>47.42</td>\n",
       "      <td>0.0</td>\n",
       "      <td>1</td>\n",
       "    </tr>\n",
       "    <tr>\n",
       "      <th>4</th>\n",
       "      <td>JG05</td>\n",
       "      <td>2.828427</td>\n",
       "      <td>PG06</td>\n",
       "      <td>2.828427</td>\n",
       "      <td>0.707107</td>\n",
       "      <td>RM_type_A</td>\n",
       "      <td>2</td>\n",
       "      <td>1965</td>\n",
       "      <td>Y</td>\n",
       "      <td>3</td>\n",
       "      <td>level_1</td>\n",
       "      <td>7.20</td>\n",
       "      <td>1985</td>\n",
       "      <td>30</td>\n",
       "      <td>9</td>\n",
       "      <td>8</td>\n",
       "      <td>2</td>\n",
       "      <td>3</td>\n",
       "      <td>0</td>\n",
       "      <td>47.18</td>\n",
       "      <td>0.0</td>\n",
       "      <td>0</td>\n",
       "    </tr>\n",
       "  </tbody>\n",
       "</table>\n",
       "</div>"
      ],
      "text/plain": [
       "  job_level  job_duration_in_current_job_level person_level  \\\n",
       "0      JG04                           1.352775         PG03   \n",
       "1      JG04                           1.292285         PG03   \n",
       "2      JG05                           2.565151         PG06   \n",
       "3      JG05                           2.828427         PG06   \n",
       "4      JG05                           2.828427         PG06   \n",
       "\n",
       "   job_duration_in_current_person_level  job_duration_in_current_branch  \\\n",
       "0                              1.352775                        1.732051   \n",
       "1                              1.292285                        1.039230   \n",
       "2                              2.308679                        1.780449   \n",
       "3                              1.000000                        1.385641   \n",
       "4                              2.828427                        0.707107   \n",
       "\n",
       "  Employee_type  gender   age marital_status_maried(Y/N)  \\\n",
       "0     RM_type_A       2  1985                          Y   \n",
       "1     RM_type_A       2  1989                          Y   \n",
       "2     RM_type_C       1  1970                          Y   \n",
       "3     RM_type_A       2  1967                          Y   \n",
       "4     RM_type_A       2  1965                          Y   \n",
       "\n",
       "   number_of_dependences Education_level   GPA  year_graduated  \\\n",
       "0                      1         level_0  2.86            2011   \n",
       "1                      0         level_1  7.28            2007   \n",
       "2                      1         level_1  0.00            1989   \n",
       "3                      2         level_1  0.00            1987   \n",
       "4                      3         level_1  7.20            1985   \n",
       "\n",
       "   job_duration_from_training  branch_rotation  job_rotation  \\\n",
       "0                           4                2             3   \n",
       "1                           4                4             3   \n",
       "2                          28               10             9   \n",
       "3                          29               11             6   \n",
       "4                          30                9             8   \n",
       "\n",
       "   assign_of_otherposition  annual leave  sick_leaves  Last_achievement_%  \\\n",
       "0                        2             3            0               46.37   \n",
       "1                        0             0            1               47.68   \n",
       "2                        6             2            1               40.73   \n",
       "3                        0             4           10               47.42   \n",
       "4                        2             3            0               47.18   \n",
       "\n",
       "   Achievement_above_100%_during3quartal  Best Performance  \n",
       "0                                    0.0                 0  \n",
       "1                                    0.0                 0  \n",
       "2                                    0.0                 0  \n",
       "3                                    0.0                 1  \n",
       "4                                    0.0                 0  "
      ]
     },
     "execution_count": 6,
     "metadata": {},
     "output_type": "execute_result"
    }
   ],
   "source": [
    "df_train.head()"
   ]
  },
  {
   "cell_type": "code",
   "execution_count": null,
   "id": "agricultural-walnut",
   "metadata": {},
   "outputs": [],
   "source": []
  },
  {
   "cell_type": "markdown",
   "id": "identical-hobby",
   "metadata": {},
   "source": [
    "# 2. Check Missing Values"
   ]
  },
  {
   "cell_type": "code",
   "execution_count": 7,
   "id": "invisible-banner",
   "metadata": {},
   "outputs": [
    {
     "data": {
      "text/plain": [
       "job_level                                0\n",
       "job_duration_in_current_job_level        0\n",
       "person_level                             0\n",
       "job_duration_in_current_person_level     0\n",
       "job_duration_in_current_branch           0\n",
       "Employee_type                            0\n",
       "gender                                   0\n",
       "age                                      0\n",
       "marital_status_maried(Y/N)               0\n",
       "number_of_dependences                    0\n",
       "Education_level                          0\n",
       "GPA                                      0\n",
       "year_graduated                           0\n",
       "job_duration_from_training               0\n",
       "branch_rotation                          0\n",
       "job_rotation                             0\n",
       "assign_of_otherposition                  0\n",
       "annual leave                             0\n",
       "sick_leaves                              0\n",
       "Last_achievement_%                       1\n",
       "Achievement_above_100%_during3quartal    1\n",
       "Best Performance                         0\n",
       "dtype: int64"
      ]
     },
     "execution_count": 7,
     "metadata": {},
     "output_type": "execute_result"
    }
   ],
   "source": [
    "df_train.isna().sum()"
   ]
  },
  {
   "cell_type": "code",
   "execution_count": 8,
   "id": "colored-diary",
   "metadata": {},
   "outputs": [
    {
     "data": {
      "text/plain": [
       "job_level                                0\n",
       "job_duration_in_current_job_level        0\n",
       "person_level                             0\n",
       "job_duration_in_current_person_level     0\n",
       "job_duration_in_current_branch           0\n",
       "Employee_type                            0\n",
       "gender                                   0\n",
       "age                                      0\n",
       "marital_status_maried(Y/N)               0\n",
       "number_of_dependences                    0\n",
       "Education_level                          0\n",
       "GPA                                      0\n",
       "year_graduated                           0\n",
       "job_duration_from_training               0\n",
       "branch_rotation                          0\n",
       "job_rotation                             0\n",
       "assign_of_otherposition                  0\n",
       "annual leave                             0\n",
       "sick_leaves                              0\n",
       "Last_achievement_%                       0\n",
       "Achievement_above_100%_during3quartal    0\n",
       "dtype: int64"
      ]
     },
     "execution_count": 8,
     "metadata": {},
     "output_type": "execute_result"
    }
   ],
   "source": [
    "df_test.isna().sum()"
   ]
  },
  {
   "cell_type": "code",
   "execution_count": null,
   "id": "failing-thursday",
   "metadata": {},
   "outputs": [],
   "source": []
  },
  {
   "cell_type": "markdown",
   "id": "convenient-substance",
   "metadata": {},
   "source": [
    "# 3. Feature Engineering"
   ]
  },
  {
   "cell_type": "markdown",
   "id": "eleven-sponsorship",
   "metadata": {},
   "source": [
    "## Gender"
   ]
  },
  {
   "cell_type": "code",
   "execution_count": 9,
   "id": "laden-strip",
   "metadata": {},
   "outputs": [
    {
     "data": {
      "text/plain": [
       "array([2, 1])"
      ]
     },
     "execution_count": 9,
     "metadata": {},
     "output_type": "execute_result"
    }
   ],
   "source": [
    "df_train['gender'].unique()"
   ]
  },
  {
   "cell_type": "code",
   "execution_count": 10,
   "id": "unauthorized-voltage",
   "metadata": {},
   "outputs": [
    {
     "name": "stdout",
     "output_type": "stream",
     "text": [
      "2  ->  2\n",
      "1  ->  1\n"
     ]
    }
   ],
   "source": [
    "def transform_gender(gender: int) -> str:\n",
    "    if gender == 1:\n",
    "        return '1'\n",
    "    if gender == 2:\n",
    "        return '2'\n",
    "    raise ValueError(f'Gender not recognized: {gender}')\n",
    "\n",
    "print(df_train['gender'][0], ' -> ', transform_gender(df_train['gender'][0]))\n",
    "print(df_train['gender'][2], ' -> ', transform_gender(df_train['gender'][2]))"
   ]
  },
  {
   "cell_type": "code",
   "execution_count": null,
   "id": "chinese-treaty",
   "metadata": {},
   "outputs": [],
   "source": []
  },
  {
   "cell_type": "markdown",
   "id": "suited-craps",
   "metadata": {},
   "source": [
    "## Year Graduated"
   ]
  },
  {
   "cell_type": "code",
   "execution_count": 11,
   "id": "fewer-agent",
   "metadata": {},
   "outputs": [
    {
     "data": {
      "text/plain": [
       "array([2011, 2007, 1989, 1987, 1985, 1990, 1988, 2009, 1999, 1992, 2008,\n",
       "       2012, 2013, 1983, 1986, 2004, 2015, 1995, 1996, 1993, 2006, 2016,\n",
       "       2005, 1994, 1984, 1982, 1998, 1991, 2010, 2000, 2014, 2003, 2018,\n",
       "       2001, 2002, 2017, 1997, 2019])"
      ]
     },
     "execution_count": 11,
     "metadata": {},
     "output_type": "execute_result"
    }
   ],
   "source": [
    "df_train['year_graduated'].unique()"
   ]
  },
  {
   "cell_type": "code",
   "execution_count": 12,
   "id": "reported-youth",
   "metadata": {},
   "outputs": [
    {
     "data": {
      "text/plain": [
       "numpy.int64"
      ]
     },
     "execution_count": 12,
     "metadata": {},
     "output_type": "execute_result"
    }
   ],
   "source": [
    "type(df_train['year_graduated'][0])"
   ]
  },
  {
   "cell_type": "code",
   "execution_count": 13,
   "id": "operational-swimming",
   "metadata": {},
   "outputs": [
    {
     "name": "stdout",
     "output_type": "stream",
     "text": [
      "2011  ->  10\n",
      "2007  ->  14\n"
     ]
    }
   ],
   "source": [
    "def transform_year_graduated(year_graduated: int) -> int:\n",
    "    if not isinstance(year_graduated, (int, np.integer)):\n",
    "        raise ValueError(f'Invalid year: {year_graduated}')\n",
    "\n",
    "    year_since_graduated = 2021 - year_graduated\n",
    "    return year_since_graduated\n",
    "\n",
    "print(df_train['year_graduated'][0], ' -> ', transform_year_graduated(df_train['year_graduated'][0]))\n",
    "print(df_train['year_graduated'][1], ' -> ', transform_year_graduated(df_train['year_graduated'][1]))"
   ]
  },
  {
   "cell_type": "code",
   "execution_count": null,
   "id": "worth-project",
   "metadata": {},
   "outputs": [],
   "source": []
  },
  {
   "cell_type": "markdown",
   "id": "present-chest",
   "metadata": {},
   "source": [
    "## Age"
   ]
  },
  {
   "cell_type": "code",
   "execution_count": 14,
   "id": "monetary-character",
   "metadata": {},
   "outputs": [
    {
     "data": {
      "text/plain": [
       "array([1985, 1989, 1970, 1967, 1965, 1971, 1969, 1968, 1991, 1966, 1993,\n",
       "       1980, 1974, 1988, 1990, 1994, 1964, 1996, 1986, 1977, 1976, 1975,\n",
       "       1995, 1963, 1992, 1981, 1987, 1973, 1979, 1978, 1972, 1984, 1983,\n",
       "       1982, 1997])"
      ]
     },
     "execution_count": 14,
     "metadata": {},
     "output_type": "execute_result"
    }
   ],
   "source": [
    "df_train['age'].unique()"
   ]
  },
  {
   "cell_type": "code",
   "execution_count": 15,
   "id": "imperial-reply",
   "metadata": {},
   "outputs": [
    {
     "name": "stdout",
     "output_type": "stream",
     "text": [
      "1985  ->  36\n",
      "1989  ->  32\n"
     ]
    }
   ],
   "source": [
    "def transform_age(year_born: int) -> int:\n",
    "    if not isinstance(year_born, (int, np.integer)):\n",
    "        raise ValueError(f'Invalid year: {year_born}')\n",
    "\n",
    "    age = 2021 - year_born\n",
    "    return age\n",
    "\n",
    "print(df_train['age'][0], ' -> ', transform_age(df_train['age'][0]))\n",
    "print(df_train['age'][1], ' -> ', transform_age(df_train['age'][1]))"
   ]
  },
  {
   "cell_type": "code",
   "execution_count": null,
   "id": "dutch-qatar",
   "metadata": {},
   "outputs": [],
   "source": []
  },
  {
   "cell_type": "markdown",
   "id": "british-shareware",
   "metadata": {},
   "source": [
    "## GPA"
   ]
  },
  {
   "cell_type": "code",
   "execution_count": 16,
   "id": "sustainable-massage",
   "metadata": {},
   "outputs": [
    {
     "data": {
      "text/plain": [
       "<AxesSubplot:>"
      ]
     },
     "execution_count": 16,
     "metadata": {},
     "output_type": "execute_result"
    },
    {
     "data": {
      "image/png": "[encoded data removed]",
      "text/plain": [
       "<Figure size 432x288 with 1 Axes>"
      ]
     },
     "metadata": {},
     "output_type": "display_data"
    }
   ],
   "source": [
    "df_train[['GPA']].boxplot()"
   ]
  },
  {
   "cell_type": "code",
   "execution_count": 17,
   "id": "impressed-executive",
   "metadata": {},
   "outputs": [
    {
     "data": {
      "text/html": [
       "<div>\n",
       "<style scoped>\n",
       "    .dataframe tbody tr th:only-of-type {\n",
       "        vertical-align: middle;\n",
       "    }\n",
       "\n",
       "    .dataframe tbody tr th {\n",
       "        vertical-align: top;\n",
       "    }\n",
       "\n",
       "    .dataframe thead th {\n",
       "        text-align: right;\n",
       "    }\n",
       "</style>\n",
       "<table border=\"1\" class=\"dataframe\">\n",
       "  <thead>\n",
       "    <tr style=\"text-align: right;\">\n",
       "      <th></th>\n",
       "      <th>GPA</th>\n",
       "    </tr>\n",
       "  </thead>\n",
       "  <tbody>\n",
       "    <tr>\n",
       "      <th>count</th>\n",
       "      <td>11153.000000</td>\n",
       "    </tr>\n",
       "    <tr>\n",
       "      <th>mean</th>\n",
       "      <td>3.176195</td>\n",
       "    </tr>\n",
       "    <tr>\n",
       "      <th>std</th>\n",
       "      <td>13.321687</td>\n",
       "    </tr>\n",
       "    <tr>\n",
       "      <th>min</th>\n",
       "      <td>0.000000</td>\n",
       "    </tr>\n",
       "    <tr>\n",
       "      <th>25%</th>\n",
       "      <td>2.820000</td>\n",
       "    </tr>\n",
       "    <tr>\n",
       "      <th>50%</th>\n",
       "      <td>3.070000</td>\n",
       "    </tr>\n",
       "    <tr>\n",
       "      <th>75%</th>\n",
       "      <td>3.270000</td>\n",
       "    </tr>\n",
       "    <tr>\n",
       "      <th>max</th>\n",
       "      <td>378.000000</td>\n",
       "    </tr>\n",
       "  </tbody>\n",
       "</table>\n",
       "</div>"
      ],
      "text/plain": [
       "                GPA\n",
       "count  11153.000000\n",
       "mean       3.176195\n",
       "std       13.321687\n",
       "min        0.000000\n",
       "25%        2.820000\n",
       "50%        3.070000\n",
       "75%        3.270000\n",
       "max      378.000000"
      ]
     },
     "execution_count": 17,
     "metadata": {},
     "output_type": "execute_result"
    }
   ],
   "source": [
    "df_train[['GPA']].describe()"
   ]
  },
  {
   "cell_type": "code",
   "execution_count": 18,
   "id": "saving-while",
   "metadata": {},
   "outputs": [
    {
     "data": {
      "text/html": [
       "<div>\n",
       "<style scoped>\n",
       "    .dataframe tbody tr th:only-of-type {\n",
       "        vertical-align: middle;\n",
       "    }\n",
       "\n",
       "    .dataframe tbody tr th {\n",
       "        vertical-align: top;\n",
       "    }\n",
       "\n",
       "    .dataframe thead th {\n",
       "        text-align: right;\n",
       "    }\n",
       "</style>\n",
       "<table border=\"1\" class=\"dataframe\">\n",
       "  <thead>\n",
       "    <tr style=\"text-align: right;\">\n",
       "      <th></th>\n",
       "      <th>GPA</th>\n",
       "    </tr>\n",
       "  </thead>\n",
       "  <tbody>\n",
       "    <tr>\n",
       "      <th>1</th>\n",
       "      <td>7.28</td>\n",
       "    </tr>\n",
       "    <tr>\n",
       "      <th>4</th>\n",
       "      <td>7.20</td>\n",
       "    </tr>\n",
       "    <tr>\n",
       "      <th>9</th>\n",
       "      <td>4.19</td>\n",
       "    </tr>\n",
       "    <tr>\n",
       "      <th>12</th>\n",
       "      <td>8.30</td>\n",
       "    </tr>\n",
       "    <tr>\n",
       "      <th>15</th>\n",
       "      <td>6.82</td>\n",
       "    </tr>\n",
       "  </tbody>\n",
       "</table>\n",
       "</div>"
      ],
      "text/plain": [
       "     GPA\n",
       "1   7.28\n",
       "4   7.20\n",
       "9   4.19\n",
       "12  8.30\n",
       "15  6.82"
      ]
     },
     "execution_count": 18,
     "metadata": {},
     "output_type": "execute_result"
    }
   ],
   "source": [
    "df_train[df_train['GPA'] > 4][['GPA']].head()"
   ]
  },
  {
   "cell_type": "code",
   "execution_count": 19,
   "id": "internal-annex",
   "metadata": {},
   "outputs": [
    {
     "data": {
      "text/plain": [
       "GPA    52\n",
       "dtype: int64"
      ]
     },
     "execution_count": 19,
     "metadata": {},
     "output_type": "execute_result"
    }
   ],
   "source": [
    "df_train[df_train['GPA'] > 4][['GPA']].count()"
   ]
  },
  {
   "cell_type": "code",
   "execution_count": 20,
   "id": "extended-playlist",
   "metadata": {},
   "outputs": [
    {
     "data": {
      "text/plain": [
       "GPA    2148\n",
       "dtype: int64"
      ]
     },
     "execution_count": 20,
     "metadata": {},
     "output_type": "execute_result"
    }
   ],
   "source": [
    "df_train[df_train['GPA'] == 0][['GPA']].count()"
   ]
  },
  {
   "cell_type": "code",
   "execution_count": 21,
   "id": "sustained-hacker",
   "metadata": {},
   "outputs": [
    {
     "data": {
      "text/plain": [
       "Education_level\n",
       "level_1    32\n",
       "level_3     1\n",
       "level_4    19\n",
       "Name: Education_level, dtype: int64"
      ]
     },
     "execution_count": 21,
     "metadata": {},
     "output_type": "execute_result"
    }
   ],
   "source": [
    "df_train[df_train['GPA'] > 4].groupby('Education_level').Education_level.count()"
   ]
  },
  {
   "cell_type": "code",
   "execution_count": 22,
   "id": "rolled-decade",
   "metadata": {},
   "outputs": [
    {
     "data": {
      "text/plain": [
       "52"
      ]
     },
     "execution_count": 22,
     "metadata": {},
     "output_type": "execute_result"
    }
   ],
   "source": [
    "len(df_train[df_train['GPA'] > 4])"
   ]
  },
  {
   "cell_type": "code",
   "execution_count": 23,
   "id": "advance-candidate",
   "metadata": {},
   "outputs": [
    {
     "data": {
      "text/plain": [
       "31"
      ]
     },
     "execution_count": 23,
     "metadata": {},
     "output_type": "execute_result"
    }
   ],
   "source": [
    "len(df_test[df_test['GPA'] > 4])"
   ]
  },
  {
   "cell_type": "code",
   "execution_count": 24,
   "id": "peaceful-sending",
   "metadata": {},
   "outputs": [
    {
     "name": "stdout",
     "output_type": "stream",
     "text": [
      "7.28  ->  0\n",
      "7.2  ->  0\n"
     ]
    }
   ],
   "source": [
    "def transform_gpa(gpa: float) -> float:\n",
    "    if not isinstance(gpa, (float, np.float_)):\n",
    "        raise ValueError(f'Invalid GPA: {gpa}')\n",
    "    if gpa > 4:\n",
    "        gpa = 0\n",
    "    return gpa\n",
    "\n",
    "print(df_train['GPA'][1], ' -> ', transform_gpa(df_train['GPA'][1]))\n",
    "print(df_train['GPA'][4], ' -> ', transform_gpa(df_train['GPA'][4]))"
   ]
  },
  {
   "cell_type": "code",
   "execution_count": null,
   "id": "progressive-operations",
   "metadata": {},
   "outputs": [],
   "source": []
  },
  {
   "cell_type": "markdown",
   "id": "approximate-aruba",
   "metadata": {},
   "source": [
    "## Job Level"
   ]
  },
  {
   "cell_type": "code",
   "execution_count": 25,
   "id": "compliant-saver",
   "metadata": {},
   "outputs": [
    {
     "name": "stdout",
     "output_type": "stream",
     "text": [
      "JG04  ->  1\n",
      "JG04  ->  1\n"
     ]
    }
   ],
   "source": [
    "def transform_job_level(job_level: str) -> int:\n",
    "    job_level_ordinal = {\n",
    "        'JG06' : 3,\n",
    "        'JG05' : 2,\n",
    "        'JG04' : 1,\n",
    "        'JG03' : 0\n",
    "    }.get(job_level)\n",
    "\n",
    "    if job_level_ordinal is None:\n",
    "        raise ValueError(f'Invalid job level: {job_level}')\n",
    "\n",
    "    return job_level_ordinal\n",
    "\n",
    "print(df_train['job_level'][0], ' -> ', transform_job_level(df_train['job_level'][0]))\n",
    "print(df_train['job_level'][1], ' -> ', transform_job_level(df_train['job_level'][1]))"
   ]
  },
  {
   "cell_type": "code",
   "execution_count": 26,
   "id": "behavioral-consciousness",
   "metadata": {},
   "outputs": [
    {
     "data": {
      "text/plain": [
       "job_level    10413\n",
       "dtype: int64"
      ]
     },
     "execution_count": 26,
     "metadata": {},
     "output_type": "execute_result"
    }
   ],
   "source": [
    "df_train[df_train['job_level'] == 'JG04'][['job_level']].count()"
   ]
  },
  {
   "cell_type": "code",
   "execution_count": null,
   "id": "cooked-monday",
   "metadata": {},
   "outputs": [],
   "source": []
  },
  {
   "cell_type": "markdown",
   "id": "dietary-trade",
   "metadata": {},
   "source": [
    "## Person Level"
   ]
  },
  {
   "cell_type": "code",
   "execution_count": 27,
   "id": "successful-martial",
   "metadata": {},
   "outputs": [
    {
     "name": "stdout",
     "output_type": "stream",
     "text": [
      "PG03  ->  2\n",
      "PG03  ->  2\n"
     ]
    }
   ],
   "source": [
    "def transform_person_level(person_level: str) -> int:\n",
    "    person_level_ordinal = {\n",
    "        'PG08' : 7,\n",
    "        'PG07' : 6,\n",
    "        'PG06' : 5,\n",
    "        'PG05' : 4,\n",
    "        'PG04' : 3,\n",
    "        'PG03' : 2,\n",
    "        'PG02' : 1,\n",
    "        'PG01' : 0\n",
    "    }.get(person_level)\n",
    "\n",
    "    if person_level_ordinal is None:\n",
    "        raise ValueError(f'Invalid person level: {person_level}')\n",
    "\n",
    "    return person_level_ordinal\n",
    "\n",
    "print(df_train['person_level'][0], ' -> ', transform_person_level(df_train['person_level'][0]))\n",
    "print(df_train['person_level'][1], ' -> ', transform_person_level(df_train['person_level'][1]))"
   ]
  },
  {
   "cell_type": "code",
   "execution_count": null,
   "id": "distinct-warehouse",
   "metadata": {},
   "outputs": [],
   "source": []
  },
  {
   "cell_type": "markdown",
   "id": "announced-chicken",
   "metadata": {},
   "source": [
    "## Education Level"
   ]
  },
  {
   "cell_type": "code",
   "execution_count": 28,
   "id": "popular-version",
   "metadata": {},
   "outputs": [
    {
     "name": "stdout",
     "output_type": "stream",
     "text": [
      "level_0  ->  0\n",
      "level_1  ->  1\n"
     ]
    }
   ],
   "source": [
    "def transform_education_level(education_level: str) -> int:\n",
    "    education_level_ordinal = {\n",
    "        'level_5' : 5,\n",
    "        'level_4' : 4,\n",
    "        'level_3' : 3,\n",
    "        'level_2' : 2,\n",
    "        'level_1' : 1,\n",
    "        'level_0' : 0\n",
    "    }.get(education_level)\n",
    "\n",
    "    if education_level_ordinal is None:\n",
    "        raise ValueError(f'Invalid education level: {education_level}')\n",
    "\n",
    "    return education_level_ordinal\n",
    "\n",
    "print(df_train['Education_level'][0], ' -> ', transform_education_level(df_train['Education_level'][0]))\n",
    "print(df_train['Education_level'][1], ' -> ', transform_education_level(df_train['Education_level'][1]))"
   ]
  },
  {
   "cell_type": "code",
   "execution_count": null,
   "id": "olive-employment",
   "metadata": {},
   "outputs": [],
   "source": []
  },
  {
   "cell_type": "markdown",
   "id": "inside-envelope",
   "metadata": {},
   "source": [
    "## Transform The Dataframe"
   ]
  },
  {
   "cell_type": "code",
   "execution_count": 29,
   "id": "reflected-principle",
   "metadata": {},
   "outputs": [],
   "source": [
    "def transform_df(df: pd.DataFrame):\n",
    "    df_transformed = df.copy()\n",
    "    df_transformed = df_transformed.dropna()\n",
    "    df_transformed['gender'] =  df_transformed['gender'].map(lambda gender: transform_gender(gender))\n",
    "    df_transformed['year_graduated'] =  df_transformed['year_graduated'].map(lambda year_graduated: transform_year_graduated(year_graduated))\n",
    "    df_transformed['age'] =  df_transformed['age'].map(lambda age: transform_age(age))\n",
    "    df_transformed['GPA'] =  df_transformed['GPA'].map(lambda gpa: transform_gpa(gpa))\n",
    "    df_transformed['job_level'] =  df_transformed['job_level'].map(lambda job_level: transform_job_level(job_level))\n",
    "    df_transformed['person_level'] =  df_transformed['person_level'].map(lambda person_level: transform_person_level(person_level))\n",
    "    df_transformed = pd.get_dummies(df_transformed, drop_first=True)\n",
    "    return df_transformed"
   ]
  },
  {
   "cell_type": "code",
   "execution_count": 30,
   "id": "referenced-inquiry",
   "metadata": {},
   "outputs": [],
   "source": [
    "df_train_transformed = transform_df(df_train)"
   ]
  },
  {
   "cell_type": "code",
   "execution_count": 31,
   "id": "capital-brick",
   "metadata": {},
   "outputs": [
    {
     "data": {
      "text/plain": [
       "(11152, 27)"
      ]
     },
     "execution_count": 31,
     "metadata": {},
     "output_type": "execute_result"
    }
   ],
   "source": [
    "df_train_transformed.shape"
   ]
  },
  {
   "cell_type": "code",
   "execution_count": 32,
   "id": "demonstrated-level",
   "metadata": {},
   "outputs": [
    {
     "data": {
      "text/html": [
       "<div>\n",
       "<style scoped>\n",
       "    .dataframe tbody tr th:only-of-type {\n",
       "        vertical-align: middle;\n",
       "    }\n",
       "\n",
       "    .dataframe tbody tr th {\n",
       "        vertical-align: top;\n",
       "    }\n",
       "\n",
       "    .dataframe thead th {\n",
       "        text-align: right;\n",
       "    }\n",
       "</style>\n",
       "<table border=\"1\" class=\"dataframe\">\n",
       "  <thead>\n",
       "    <tr style=\"text-align: right;\">\n",
       "      <th></th>\n",
       "      <th>job_level</th>\n",
       "      <th>job_duration_in_current_job_level</th>\n",
       "      <th>person_level</th>\n",
       "      <th>job_duration_in_current_person_level</th>\n",
       "      <th>job_duration_in_current_branch</th>\n",
       "      <th>age</th>\n",
       "      <th>number_of_dependences</th>\n",
       "      <th>GPA</th>\n",
       "      <th>year_graduated</th>\n",
       "      <th>job_duration_from_training</th>\n",
       "      <th>branch_rotation</th>\n",
       "      <th>job_rotation</th>\n",
       "      <th>assign_of_otherposition</th>\n",
       "      <th>annual leave</th>\n",
       "      <th>sick_leaves</th>\n",
       "      <th>Last_achievement_%</th>\n",
       "      <th>Achievement_above_100%_during3quartal</th>\n",
       "      <th>Best Performance</th>\n",
       "      <th>Employee_type_RM_type_B</th>\n",
       "      <th>Employee_type_RM_type_C</th>\n",
       "      <th>gender_2</th>\n",
       "      <th>marital_status_maried(Y/N)_Y</th>\n",
       "      <th>Education_level_level_1</th>\n",
       "      <th>Education_level_level_2</th>\n",
       "      <th>Education_level_level_3</th>\n",
       "      <th>Education_level_level_4</th>\n",
       "      <th>Education_level_level_5</th>\n",
       "    </tr>\n",
       "  </thead>\n",
       "  <tbody>\n",
       "    <tr>\n",
       "      <th>0</th>\n",
       "      <td>1</td>\n",
       "      <td>1.352775</td>\n",
       "      <td>2</td>\n",
       "      <td>1.352775</td>\n",
       "      <td>1.732051</td>\n",
       "      <td>36</td>\n",
       "      <td>1</td>\n",
       "      <td>2.86</td>\n",
       "      <td>10</td>\n",
       "      <td>4</td>\n",
       "      <td>2</td>\n",
       "      <td>3</td>\n",
       "      <td>2</td>\n",
       "      <td>3</td>\n",
       "      <td>0</td>\n",
       "      <td>46.37</td>\n",
       "      <td>0.0</td>\n",
       "      <td>0</td>\n",
       "      <td>0</td>\n",
       "      <td>0</td>\n",
       "      <td>1</td>\n",
       "      <td>1</td>\n",
       "      <td>0</td>\n",
       "      <td>0</td>\n",
       "      <td>0</td>\n",
       "      <td>0</td>\n",
       "      <td>0</td>\n",
       "    </tr>\n",
       "    <tr>\n",
       "      <th>1</th>\n",
       "      <td>1</td>\n",
       "      <td>1.292285</td>\n",
       "      <td>2</td>\n",
       "      <td>1.292285</td>\n",
       "      <td>1.039230</td>\n",
       "      <td>32</td>\n",
       "      <td>0</td>\n",
       "      <td>0.00</td>\n",
       "      <td>14</td>\n",
       "      <td>4</td>\n",
       "      <td>4</td>\n",
       "      <td>3</td>\n",
       "      <td>0</td>\n",
       "      <td>0</td>\n",
       "      <td>1</td>\n",
       "      <td>47.68</td>\n",
       "      <td>0.0</td>\n",
       "      <td>0</td>\n",
       "      <td>0</td>\n",
       "      <td>0</td>\n",
       "      <td>1</td>\n",
       "      <td>1</td>\n",
       "      <td>1</td>\n",
       "      <td>0</td>\n",
       "      <td>0</td>\n",
       "      <td>0</td>\n",
       "      <td>0</td>\n",
       "    </tr>\n",
       "    <tr>\n",
       "      <th>2</th>\n",
       "      <td>2</td>\n",
       "      <td>2.565151</td>\n",
       "      <td>5</td>\n",
       "      <td>2.308679</td>\n",
       "      <td>1.780449</td>\n",
       "      <td>51</td>\n",
       "      <td>1</td>\n",
       "      <td>0.00</td>\n",
       "      <td>32</td>\n",
       "      <td>28</td>\n",
       "      <td>10</td>\n",
       "      <td>9</td>\n",
       "      <td>6</td>\n",
       "      <td>2</td>\n",
       "      <td>1</td>\n",
       "      <td>40.73</td>\n",
       "      <td>0.0</td>\n",
       "      <td>0</td>\n",
       "      <td>0</td>\n",
       "      <td>1</td>\n",
       "      <td>0</td>\n",
       "      <td>1</td>\n",
       "      <td>1</td>\n",
       "      <td>0</td>\n",
       "      <td>0</td>\n",
       "      <td>0</td>\n",
       "      <td>0</td>\n",
       "    </tr>\n",
       "    <tr>\n",
       "      <th>3</th>\n",
       "      <td>2</td>\n",
       "      <td>2.828427</td>\n",
       "      <td>5</td>\n",
       "      <td>1.000000</td>\n",
       "      <td>1.385641</td>\n",
       "      <td>54</td>\n",
       "      <td>2</td>\n",
       "      <td>0.00</td>\n",
       "      <td>34</td>\n",
       "      <td>29</td>\n",
       "      <td>11</td>\n",
       "      <td>6</td>\n",
       "      <td>0</td>\n",
       "      <td>4</td>\n",
       "      <td>10</td>\n",
       "      <td>47.42</td>\n",
       "      <td>0.0</td>\n",
       "      <td>1</td>\n",
       "      <td>0</td>\n",
       "      <td>0</td>\n",
       "      <td>1</td>\n",
       "      <td>1</td>\n",
       "      <td>1</td>\n",
       "      <td>0</td>\n",
       "      <td>0</td>\n",
       "      <td>0</td>\n",
       "      <td>0</td>\n",
       "    </tr>\n",
       "    <tr>\n",
       "      <th>4</th>\n",
       "      <td>2</td>\n",
       "      <td>2.828427</td>\n",
       "      <td>5</td>\n",
       "      <td>2.828427</td>\n",
       "      <td>0.707107</td>\n",
       "      <td>56</td>\n",
       "      <td>3</td>\n",
       "      <td>0.00</td>\n",
       "      <td>36</td>\n",
       "      <td>30</td>\n",
       "      <td>9</td>\n",
       "      <td>8</td>\n",
       "      <td>2</td>\n",
       "      <td>3</td>\n",
       "      <td>0</td>\n",
       "      <td>47.18</td>\n",
       "      <td>0.0</td>\n",
       "      <td>0</td>\n",
       "      <td>0</td>\n",
       "      <td>0</td>\n",
       "      <td>1</td>\n",
       "      <td>1</td>\n",
       "      <td>1</td>\n",
       "      <td>0</td>\n",
       "      <td>0</td>\n",
       "      <td>0</td>\n",
       "      <td>0</td>\n",
       "    </tr>\n",
       "    <tr>\n",
       "      <th>...</th>\n",
       "      <td>...</td>\n",
       "      <td>...</td>\n",
       "      <td>...</td>\n",
       "      <td>...</td>\n",
       "      <td>...</td>\n",
       "      <td>...</td>\n",
       "      <td>...</td>\n",
       "      <td>...</td>\n",
       "      <td>...</td>\n",
       "      <td>...</td>\n",
       "      <td>...</td>\n",
       "      <td>...</td>\n",
       "      <td>...</td>\n",
       "      <td>...</td>\n",
       "      <td>...</td>\n",
       "      <td>...</td>\n",
       "      <td>...</td>\n",
       "      <td>...</td>\n",
       "      <td>...</td>\n",
       "      <td>...</td>\n",
       "      <td>...</td>\n",
       "      <td>...</td>\n",
       "      <td>...</td>\n",
       "      <td>...</td>\n",
       "      <td>...</td>\n",
       "      <td>...</td>\n",
       "      <td>...</td>\n",
       "    </tr>\n",
       "    <tr>\n",
       "      <th>11148</th>\n",
       "      <td>1</td>\n",
       "      <td>1.256981</td>\n",
       "      <td>2</td>\n",
       "      <td>1.256981</td>\n",
       "      <td>1.224745</td>\n",
       "      <td>35</td>\n",
       "      <td>1</td>\n",
       "      <td>3.33</td>\n",
       "      <td>5</td>\n",
       "      <td>4</td>\n",
       "      <td>3</td>\n",
       "      <td>3</td>\n",
       "      <td>0</td>\n",
       "      <td>4</td>\n",
       "      <td>1</td>\n",
       "      <td>50.87</td>\n",
       "      <td>0.0</td>\n",
       "      <td>0</td>\n",
       "      <td>0</td>\n",
       "      <td>0</td>\n",
       "      <td>1</td>\n",
       "      <td>1</td>\n",
       "      <td>0</td>\n",
       "      <td>0</td>\n",
       "      <td>0</td>\n",
       "      <td>0</td>\n",
       "      <td>1</td>\n",
       "    </tr>\n",
       "    <tr>\n",
       "      <th>11149</th>\n",
       "      <td>1</td>\n",
       "      <td>1.385641</td>\n",
       "      <td>2</td>\n",
       "      <td>1.385641</td>\n",
       "      <td>1.802776</td>\n",
       "      <td>33</td>\n",
       "      <td>2</td>\n",
       "      <td>3.00</td>\n",
       "      <td>6</td>\n",
       "      <td>3</td>\n",
       "      <td>1</td>\n",
       "      <td>2</td>\n",
       "      <td>0</td>\n",
       "      <td>6</td>\n",
       "      <td>0</td>\n",
       "      <td>79.91</td>\n",
       "      <td>0.0</td>\n",
       "      <td>0</td>\n",
       "      <td>1</td>\n",
       "      <td>0</td>\n",
       "      <td>0</td>\n",
       "      <td>1</td>\n",
       "      <td>0</td>\n",
       "      <td>0</td>\n",
       "      <td>0</td>\n",
       "      <td>0</td>\n",
       "      <td>1</td>\n",
       "    </tr>\n",
       "    <tr>\n",
       "      <th>11150</th>\n",
       "      <td>1</td>\n",
       "      <td>1.256981</td>\n",
       "      <td>2</td>\n",
       "      <td>1.256981</td>\n",
       "      <td>1.385641</td>\n",
       "      <td>30</td>\n",
       "      <td>0</td>\n",
       "      <td>3.48</td>\n",
       "      <td>4</td>\n",
       "      <td>2</td>\n",
       "      <td>1</td>\n",
       "      <td>2</td>\n",
       "      <td>0</td>\n",
       "      <td>4</td>\n",
       "      <td>0</td>\n",
       "      <td>78.38</td>\n",
       "      <td>0.0</td>\n",
       "      <td>0</td>\n",
       "      <td>1</td>\n",
       "      <td>0</td>\n",
       "      <td>1</td>\n",
       "      <td>1</td>\n",
       "      <td>0</td>\n",
       "      <td>0</td>\n",
       "      <td>0</td>\n",
       "      <td>0</td>\n",
       "      <td>1</td>\n",
       "    </tr>\n",
       "    <tr>\n",
       "      <th>11151</th>\n",
       "      <td>1</td>\n",
       "      <td>1.118034</td>\n",
       "      <td>2</td>\n",
       "      <td>1.118034</td>\n",
       "      <td>0.000000</td>\n",
       "      <td>34</td>\n",
       "      <td>1</td>\n",
       "      <td>3.53</td>\n",
       "      <td>9</td>\n",
       "      <td>5</td>\n",
       "      <td>5</td>\n",
       "      <td>4</td>\n",
       "      <td>0</td>\n",
       "      <td>4</td>\n",
       "      <td>1</td>\n",
       "      <td>85.94</td>\n",
       "      <td>1.0</td>\n",
       "      <td>0</td>\n",
       "      <td>0</td>\n",
       "      <td>0</td>\n",
       "      <td>0</td>\n",
       "      <td>1</td>\n",
       "      <td>0</td>\n",
       "      <td>0</td>\n",
       "      <td>0</td>\n",
       "      <td>0</td>\n",
       "      <td>1</td>\n",
       "    </tr>\n",
       "    <tr>\n",
       "      <th>11152</th>\n",
       "      <td>1</td>\n",
       "      <td>2.828427</td>\n",
       "      <td>3</td>\n",
       "      <td>2.121320</td>\n",
       "      <td>1.473092</td>\n",
       "      <td>41</td>\n",
       "      <td>2</td>\n",
       "      <td>3.14</td>\n",
       "      <td>12</td>\n",
       "      <td>14</td>\n",
       "      <td>5</td>\n",
       "      <td>7</td>\n",
       "      <td>0</td>\n",
       "      <td>2</td>\n",
       "      <td>0</td>\n",
       "      <td>79.99</td>\n",
       "      <td>1.0</td>\n",
       "      <td>0</td>\n",
       "      <td>1</td>\n",
       "      <td>0</td>\n",
       "      <td>1</td>\n",
       "      <td>1</td>\n",
       "      <td>0</td>\n",
       "      <td>0</td>\n",
       "      <td>0</td>\n",
       "      <td>0</td>\n",
       "      <td>1</td>\n",
       "    </tr>\n",
       "  </tbody>\n",
       "</table>\n",
       "<p>11152 rows × 27 columns</p>\n",
       "</div>"
      ],
      "text/plain": [
       "       job_level  job_duration_in_current_job_level  person_level  \\\n",
       "0              1                           1.352775             2   \n",
       "1              1                           1.292285             2   \n",
       "2              2                           2.565151             5   \n",
       "3              2                           2.828427             5   \n",
       "4              2                           2.828427             5   \n",
       "...          ...                                ...           ...   \n",
       "11148          1                           1.256981             2   \n",
       "11149          1                           1.385641             2   \n",
       "11150          1                           1.256981             2   \n",
       "11151          1                           1.118034             2   \n",
       "11152          1                           2.828427             3   \n",
       "\n",
       "       job_duration_in_current_person_level  job_duration_in_current_branch  \\\n",
       "0                                  1.352775                        1.732051   \n",
       "1                                  1.292285                        1.039230   \n",
       "2                                  2.308679                        1.780449   \n",
       "3                                  1.000000                        1.385641   \n",
       "4                                  2.828427                        0.707107   \n",
       "...                                     ...                             ...   \n",
       "11148                              1.256981                        1.224745   \n",
       "11149                              1.385641                        1.802776   \n",
       "11150                              1.256981                        1.385641   \n",
       "11151                              1.118034                        0.000000   \n",
       "11152                              2.121320                        1.473092   \n",
       "\n",
       "       age  number_of_dependences   GPA  year_graduated  \\\n",
       "0       36                      1  2.86              10   \n",
       "1       32                      0  0.00              14   \n",
       "2       51                      1  0.00              32   \n",
       "3       54                      2  0.00              34   \n",
       "4       56                      3  0.00              36   \n",
       "...    ...                    ...   ...             ...   \n",
       "11148   35                      1  3.33               5   \n",
       "11149   33                      2  3.00               6   \n",
       "11150   30                      0  3.48               4   \n",
       "11151   34                      1  3.53               9   \n",
       "11152   41                      2  3.14              12   \n",
       "\n",
       "       job_duration_from_training  branch_rotation  job_rotation  \\\n",
       "0                               4                2             3   \n",
       "1                               4                4             3   \n",
       "2                              28               10             9   \n",
       "3                              29               11             6   \n",
       "4                              30                9             8   \n",
       "...                           ...              ...           ...   \n",
       "11148                           4                3             3   \n",
       "11149                           3                1             2   \n",
       "11150                           2                1             2   \n",
       "11151                           5                5             4   \n",
       "11152                          14                5             7   \n",
       "\n",
       "       assign_of_otherposition  annual leave  sick_leaves  Last_achievement_%  \\\n",
       "0                            2             3            0               46.37   \n",
       "1                            0             0            1               47.68   \n",
       "2                            6             2            1               40.73   \n",
       "3                            0             4           10               47.42   \n",
       "4                            2             3            0               47.18   \n",
       "...                        ...           ...          ...                 ...   \n",
       "11148                        0             4            1               50.87   \n",
       "11149                        0             6            0               79.91   \n",
       "11150                        0             4            0               78.38   \n",
       "11151                        0             4            1               85.94   \n",
       "11152                        0             2            0               79.99   \n",
       "\n",
       "       Achievement_above_100%_during3quartal  Best Performance  \\\n",
       "0                                        0.0                 0   \n",
       "1                                        0.0                 0   \n",
       "2                                        0.0                 0   \n",
       "3                                        0.0                 1   \n",
       "4                                        0.0                 0   \n",
       "...                                      ...               ...   \n",
       "11148                                    0.0                 0   \n",
       "11149                                    0.0                 0   \n",
       "11150                                    0.0                 0   \n",
       "11151                                    1.0                 0   \n",
       "11152                                    1.0                 0   \n",
       "\n",
       "       Employee_type_RM_type_B  Employee_type_RM_type_C  gender_2  \\\n",
       "0                            0                        0         1   \n",
       "1                            0                        0         1   \n",
       "2                            0                        1         0   \n",
       "3                            0                        0         1   \n",
       "4                            0                        0         1   \n",
       "...                        ...                      ...       ...   \n",
       "11148                        0                        0         1   \n",
       "11149                        1                        0         0   \n",
       "11150                        1                        0         1   \n",
       "11151                        0                        0         0   \n",
       "11152                        1                        0         1   \n",
       "\n",
       "       marital_status_maried(Y/N)_Y  Education_level_level_1  \\\n",
       "0                                 1                        0   \n",
       "1                                 1                        1   \n",
       "2                                 1                        1   \n",
       "3                                 1                        1   \n",
       "4                                 1                        1   \n",
       "...                             ...                      ...   \n",
       "11148                             1                        0   \n",
       "11149                             1                        0   \n",
       "11150                             1                        0   \n",
       "11151                             1                        0   \n",
       "11152                             1                        0   \n",
       "\n",
       "       Education_level_level_2  Education_level_level_3  \\\n",
       "0                            0                        0   \n",
       "1                            0                        0   \n",
       "2                            0                        0   \n",
       "3                            0                        0   \n",
       "4                            0                        0   \n",
       "...                        ...                      ...   \n",
       "11148                        0                        0   \n",
       "11149                        0                        0   \n",
       "11150                        0                        0   \n",
       "11151                        0                        0   \n",
       "11152                        0                        0   \n",
       "\n",
       "       Education_level_level_4  Education_level_level_5  \n",
       "0                            0                        0  \n",
       "1                            0                        0  \n",
       "2                            0                        0  \n",
       "3                            0                        0  \n",
       "4                            0                        0  \n",
       "...                        ...                      ...  \n",
       "11148                        0                        1  \n",
       "11149                        0                        1  \n",
       "11150                        0                        1  \n",
       "11151                        0                        1  \n",
       "11152                        0                        1  \n",
       "\n",
       "[11152 rows x 27 columns]"
      ]
     },
     "execution_count": 32,
     "metadata": {},
     "output_type": "execute_result"
    }
   ],
   "source": [
    "df_train_transformed"
   ]
  },
  {
   "cell_type": "code",
   "execution_count": null,
   "id": "related-travel",
   "metadata": {},
   "outputs": [],
   "source": []
  },
  {
   "cell_type": "code",
   "execution_count": 33,
   "id": "touched-shepherd",
   "metadata": {},
   "outputs": [],
   "source": [
    "X = df_train_transformed.drop('Best Performance', axis=1)\n",
    "y = df_train_transformed['Best Performance']"
   ]
  },
  {
   "cell_type": "code",
   "execution_count": null,
   "id": "protecting-nickel",
   "metadata": {},
   "outputs": [],
   "source": []
  },
  {
   "cell_type": "markdown",
   "id": "essential-adapter",
   "metadata": {},
   "source": [
    "# 4. Train The Model"
   ]
  },
  {
   "cell_type": "code",
   "execution_count": 53,
   "id": "opened-tunisia",
   "metadata": {},
   "outputs": [],
   "source": [
    "def train_model(model: ClassifierMixin):\n",
    "    cv = RepeatedStratifiedKFold(n_splits=5, n_repeats=3, random_state=42)\n",
    "    scores = cross_val_score(model, X, y, scoring='roc_auc', cv=cv, n_jobs=-1)\n",
    "    print('ROC-AUC Score: ', round(np.mean(scores),5))"
   ]
  },
  {
   "cell_type": "markdown",
   "id": "played-thickness",
   "metadata": {},
   "source": [
    "### Logistic Regression"
   ]
  },
  {
   "cell_type": "code",
   "execution_count": 54,
   "id": "rational-niger",
   "metadata": {},
   "outputs": [
    {
     "name": "stdout",
     "output_type": "stream",
     "text": [
      "ROC-AUC Score:  0.52482\n"
     ]
    }
   ],
   "source": [
    "lr = LogisticRegression()\n",
    "train_model(lr)"
   ]
  },
  {
   "cell_type": "markdown",
   "id": "liable-sharing",
   "metadata": {},
   "source": [
    "### Random Forest"
   ]
  },
  {
   "cell_type": "code",
   "execution_count": 55,
   "id": "polar-chick",
   "metadata": {},
   "outputs": [
    {
     "name": "stdout",
     "output_type": "stream",
     "text": [
      "ROC-AUC Score:  0.56817\n"
     ]
    }
   ],
   "source": [
    "rf = RandomForestClassifier(n_estimators=400, random_state=42)\n",
    "train_model(rf)"
   ]
  },
  {
   "cell_type": "markdown",
   "id": "patent-warner",
   "metadata": {},
   "source": [
    "### Decision Tree"
   ]
  },
  {
   "cell_type": "code",
   "execution_count": 56,
   "id": "sonic-volleyball",
   "metadata": {},
   "outputs": [
    {
     "name": "stdout",
     "output_type": "stream",
     "text": [
      "ROC-AUC Score:  0.5183\n"
     ]
    }
   ],
   "source": [
    "dt = DecisionTreeClassifier(random_state=42)\n",
    "train_model(dt)"
   ]
  },
  {
   "cell_type": "markdown",
   "id": "together-keyboard",
   "metadata": {},
   "source": [
    "### Balanced Bagging Classifier"
   ]
  },
  {
   "cell_type": "code",
   "execution_count": 57,
   "id": "manufactured-strategy",
   "metadata": {},
   "outputs": [
    {
     "name": "stdout",
     "output_type": "stream",
     "text": [
      "ROC-AUC Score:  0.58247\n"
     ]
    }
   ],
   "source": [
    "bbc = BalancedBaggingClassifier(base_estimator=DecisionTreeClassifier(),\n",
    "                                n_estimators = 1000,\n",
    "                                sampling_strategy='auto',\n",
    "                                replacement=False,\n",
    "                                random_state=42)\n",
    "train_model(bbc)"
   ]
  },
  {
   "cell_type": "code",
   "execution_count": null,
   "id": "dietary-barcelona",
   "metadata": {},
   "outputs": [],
   "source": []
  },
  {
   "cell_type": "markdown",
   "id": "generous-listening",
   "metadata": {},
   "source": [
    "## Train The Model on Whole Training Set"
   ]
  },
  {
   "cell_type": "code",
   "execution_count": 58,
   "id": "compact-tracy",
   "metadata": {},
   "outputs": [
    {
     "data": {
      "text/plain": [
       "BalancedBaggingClassifier(base_estimator=DecisionTreeClassifier(),\n",
       "                          n_estimators=1000, random_state=42)"
      ]
     },
     "execution_count": 58,
     "metadata": {},
     "output_type": "execute_result"
    }
   ],
   "source": [
    "model = BalancedBaggingClassifier(base_estimator=DecisionTreeClassifier(),\n",
    "                                n_estimators = 1000,\n",
    "                                sampling_strategy='auto',\n",
    "                                replacement=False,\n",
    "                                random_state=42)\n",
    "model.fit(X, y)"
   ]
  },
  {
   "cell_type": "code",
   "execution_count": 59,
   "id": "extensive-intensity",
   "metadata": {},
   "outputs": [
    {
     "name": "stdout",
     "output_type": "stream",
     "text": [
      "Accuracy: 0.9644010043041606\n",
      "ROC AUC score: 0.9999780111202741\n"
     ]
    }
   ],
   "source": [
    "print(f'Accuracy: {model.score(X, y)}')\n",
    "print(f'ROC AUC score: {roc_auc_score(y, model.predict_proba(X)[:,1])}')"
   ]
  },
  {
   "cell_type": "code",
   "execution_count": null,
   "id": "bigger-madonna",
   "metadata": {},
   "outputs": [],
   "source": []
  },
  {
   "cell_type": "markdown",
   "id": "registered-hygiene",
   "metadata": {},
   "source": [
    "# 5. Apply The Trained Model on Test Set"
   ]
  },
  {
   "cell_type": "code",
   "execution_count": 60,
   "id": "identified-security",
   "metadata": {},
   "outputs": [
    {
     "data": {
      "text/plain": [
       "(6000, 21)"
      ]
     },
     "execution_count": 60,
     "metadata": {},
     "output_type": "execute_result"
    }
   ],
   "source": [
    "df_test.shape"
   ]
  },
  {
   "cell_type": "code",
   "execution_count": 61,
   "id": "simple-found",
   "metadata": {},
   "outputs": [],
   "source": [
    "X_test = transform_df(df_test)"
   ]
  },
  {
   "cell_type": "code",
   "execution_count": 62,
   "id": "social-raleigh",
   "metadata": {},
   "outputs": [
    {
     "data": {
      "text/plain": [
       "(6000, 26)"
      ]
     },
     "execution_count": 62,
     "metadata": {},
     "output_type": "execute_result"
    }
   ],
   "source": [
    "X_test.shape"
   ]
  },
  {
   "cell_type": "code",
   "execution_count": 63,
   "id": "bronze-slovakia",
   "metadata": {},
   "outputs": [
    {
     "data": {
      "text/html": [
       "<div>\n",
       "<style scoped>\n",
       "    .dataframe tbody tr th:only-of-type {\n",
       "        vertical-align: middle;\n",
       "    }\n",
       "\n",
       "    .dataframe tbody tr th {\n",
       "        vertical-align: top;\n",
       "    }\n",
       "\n",
       "    .dataframe thead th {\n",
       "        text-align: right;\n",
       "    }\n",
       "</style>\n",
       "<table border=\"1\" class=\"dataframe\">\n",
       "  <thead>\n",
       "    <tr style=\"text-align: right;\">\n",
       "      <th></th>\n",
       "      <th>job_level</th>\n",
       "      <th>job_duration_in_current_job_level</th>\n",
       "      <th>person_level</th>\n",
       "      <th>job_duration_in_current_person_level</th>\n",
       "      <th>job_duration_in_current_branch</th>\n",
       "      <th>age</th>\n",
       "      <th>number_of_dependences</th>\n",
       "      <th>GPA</th>\n",
       "      <th>year_graduated</th>\n",
       "      <th>job_duration_from_training</th>\n",
       "      <th>branch_rotation</th>\n",
       "      <th>job_rotation</th>\n",
       "      <th>assign_of_otherposition</th>\n",
       "      <th>annual leave</th>\n",
       "      <th>sick_leaves</th>\n",
       "      <th>Last_achievement_%</th>\n",
       "      <th>Achievement_above_100%_during3quartal</th>\n",
       "      <th>Employee_type_RM_type_B</th>\n",
       "      <th>Employee_type_RM_type_C</th>\n",
       "      <th>gender_2</th>\n",
       "      <th>marital_status_maried(Y/N)_Y</th>\n",
       "      <th>Education_level_level_1</th>\n",
       "      <th>Education_level_level_2</th>\n",
       "      <th>Education_level_level_3</th>\n",
       "      <th>Education_level_level_4</th>\n",
       "      <th>Education_level_level_5</th>\n",
       "    </tr>\n",
       "  </thead>\n",
       "  <tbody>\n",
       "    <tr>\n",
       "      <th>0</th>\n",
       "      <td>1</td>\n",
       "      <td>1.256981</td>\n",
       "      <td>2</td>\n",
       "      <td>1.256981</td>\n",
       "      <td>0.707107</td>\n",
       "      <td>33</td>\n",
       "      <td>0</td>\n",
       "      <td>3.08</td>\n",
       "      <td>12</td>\n",
       "      <td>6</td>\n",
       "      <td>4</td>\n",
       "      <td>2</td>\n",
       "      <td>6</td>\n",
       "      <td>3</td>\n",
       "      <td>7</td>\n",
       "      <td>84.02</td>\n",
       "      <td>0.0</td>\n",
       "      <td>0</td>\n",
       "      <td>0</td>\n",
       "      <td>0</td>\n",
       "      <td>0</td>\n",
       "      <td>0</td>\n",
       "      <td>0</td>\n",
       "      <td>1</td>\n",
       "      <td>0</td>\n",
       "      <td>0</td>\n",
       "    </tr>\n",
       "    <tr>\n",
       "      <th>1</th>\n",
       "      <td>1</td>\n",
       "      <td>1.224745</td>\n",
       "      <td>2</td>\n",
       "      <td>1.224745</td>\n",
       "      <td>1.256981</td>\n",
       "      <td>30</td>\n",
       "      <td>0</td>\n",
       "      <td>3.31</td>\n",
       "      <td>7</td>\n",
       "      <td>2</td>\n",
       "      <td>2</td>\n",
       "      <td>2</td>\n",
       "      <td>0</td>\n",
       "      <td>1</td>\n",
       "      <td>0</td>\n",
       "      <td>63.74</td>\n",
       "      <td>0.0</td>\n",
       "      <td>1</td>\n",
       "      <td>0</td>\n",
       "      <td>1</td>\n",
       "      <td>0</td>\n",
       "      <td>0</td>\n",
       "      <td>0</td>\n",
       "      <td>0</td>\n",
       "      <td>1</td>\n",
       "      <td>0</td>\n",
       "    </tr>\n",
       "    <tr>\n",
       "      <th>2</th>\n",
       "      <td>1</td>\n",
       "      <td>0.500000</td>\n",
       "      <td>2</td>\n",
       "      <td>0.500000</td>\n",
       "      <td>1.081665</td>\n",
       "      <td>32</td>\n",
       "      <td>1</td>\n",
       "      <td>3.44</td>\n",
       "      <td>10</td>\n",
       "      <td>4</td>\n",
       "      <td>2</td>\n",
       "      <td>2</td>\n",
       "      <td>0</td>\n",
       "      <td>2</td>\n",
       "      <td>1</td>\n",
       "      <td>88.19</td>\n",
       "      <td>1.0</td>\n",
       "      <td>0</td>\n",
       "      <td>0</td>\n",
       "      <td>1</td>\n",
       "      <td>1</td>\n",
       "      <td>0</td>\n",
       "      <td>0</td>\n",
       "      <td>0</td>\n",
       "      <td>1</td>\n",
       "      <td>0</td>\n",
       "    </tr>\n",
       "    <tr>\n",
       "      <th>3</th>\n",
       "      <td>1</td>\n",
       "      <td>1.256981</td>\n",
       "      <td>2</td>\n",
       "      <td>1.256981</td>\n",
       "      <td>1.802776</td>\n",
       "      <td>31</td>\n",
       "      <td>1</td>\n",
       "      <td>0.00</td>\n",
       "      <td>7</td>\n",
       "      <td>3</td>\n",
       "      <td>1</td>\n",
       "      <td>3</td>\n",
       "      <td>0</td>\n",
       "      <td>3</td>\n",
       "      <td>0</td>\n",
       "      <td>25.94</td>\n",
       "      <td>0.0</td>\n",
       "      <td>0</td>\n",
       "      <td>0</td>\n",
       "      <td>1</td>\n",
       "      <td>1</td>\n",
       "      <td>0</td>\n",
       "      <td>0</td>\n",
       "      <td>0</td>\n",
       "      <td>1</td>\n",
       "      <td>0</td>\n",
       "    </tr>\n",
       "    <tr>\n",
       "      <th>4</th>\n",
       "      <td>1</td>\n",
       "      <td>1.352775</td>\n",
       "      <td>2</td>\n",
       "      <td>1.352775</td>\n",
       "      <td>1.224745</td>\n",
       "      <td>36</td>\n",
       "      <td>0</td>\n",
       "      <td>3.34</td>\n",
       "      <td>14</td>\n",
       "      <td>5</td>\n",
       "      <td>3</td>\n",
       "      <td>2</td>\n",
       "      <td>0</td>\n",
       "      <td>3</td>\n",
       "      <td>0</td>\n",
       "      <td>82.32</td>\n",
       "      <td>0.0</td>\n",
       "      <td>1</td>\n",
       "      <td>0</td>\n",
       "      <td>0</td>\n",
       "      <td>1</td>\n",
       "      <td>0</td>\n",
       "      <td>0</td>\n",
       "      <td>0</td>\n",
       "      <td>1</td>\n",
       "      <td>0</td>\n",
       "    </tr>\n",
       "  </tbody>\n",
       "</table>\n",
       "</div>"
      ],
      "text/plain": [
       "   job_level  job_duration_in_current_job_level  person_level  \\\n",
       "0          1                           1.256981             2   \n",
       "1          1                           1.224745             2   \n",
       "2          1                           0.500000             2   \n",
       "3          1                           1.256981             2   \n",
       "4          1                           1.352775             2   \n",
       "\n",
       "   job_duration_in_current_person_level  job_duration_in_current_branch  age  \\\n",
       "0                              1.256981                        0.707107   33   \n",
       "1                              1.224745                        1.256981   30   \n",
       "2                              0.500000                        1.081665   32   \n",
       "3                              1.256981                        1.802776   31   \n",
       "4                              1.352775                        1.224745   36   \n",
       "\n",
       "   number_of_dependences   GPA  year_graduated  job_duration_from_training  \\\n",
       "0                      0  3.08              12                           6   \n",
       "1                      0  3.31               7                           2   \n",
       "2                      1  3.44              10                           4   \n",
       "3                      1  0.00               7                           3   \n",
       "4                      0  3.34              14                           5   \n",
       "\n",
       "   branch_rotation  job_rotation  assign_of_otherposition  annual leave  \\\n",
       "0                4             2                        6             3   \n",
       "1                2             2                        0             1   \n",
       "2                2             2                        0             2   \n",
       "3                1             3                        0             3   \n",
       "4                3             2                        0             3   \n",
       "\n",
       "   sick_leaves  Last_achievement_%  Achievement_above_100%_during3quartal  \\\n",
       "0            7               84.02                                    0.0   \n",
       "1            0               63.74                                    0.0   \n",
       "2            1               88.19                                    1.0   \n",
       "3            0               25.94                                    0.0   \n",
       "4            0               82.32                                    0.0   \n",
       "\n",
       "   Employee_type_RM_type_B  Employee_type_RM_type_C  gender_2  \\\n",
       "0                        0                        0         0   \n",
       "1                        1                        0         1   \n",
       "2                        0                        0         1   \n",
       "3                        0                        0         1   \n",
       "4                        1                        0         0   \n",
       "\n",
       "   marital_status_maried(Y/N)_Y  Education_level_level_1  \\\n",
       "0                             0                        0   \n",
       "1                             0                        0   \n",
       "2                             1                        0   \n",
       "3                             1                        0   \n",
       "4                             1                        0   \n",
       "\n",
       "   Education_level_level_2  Education_level_level_3  Education_level_level_4  \\\n",
       "0                        0                        1                        0   \n",
       "1                        0                        0                        1   \n",
       "2                        0                        0                        1   \n",
       "3                        0                        0                        1   \n",
       "4                        0                        0                        1   \n",
       "\n",
       "   Education_level_level_5  \n",
       "0                        0  \n",
       "1                        0  \n",
       "2                        0  \n",
       "3                        0  \n",
       "4                        0  "
      ]
     },
     "execution_count": 63,
     "metadata": {},
     "output_type": "execute_result"
    }
   ],
   "source": [
    "X_test.head()"
   ]
  },
  {
   "cell_type": "code",
   "execution_count": 64,
   "id": "ideal-hungary",
   "metadata": {},
   "outputs": [],
   "source": [
    "y_test_pred_proba = model.predict_proba(X_test)[:,1]"
   ]
  },
  {
   "cell_type": "code",
   "execution_count": 65,
   "id": "persistent-missile",
   "metadata": {},
   "outputs": [
    {
     "data": {
      "text/plain": [
       "array([0.332, 0.386, 0.663, ..., 0.543, 0.487, 0.333])"
      ]
     },
     "execution_count": 65,
     "metadata": {},
     "output_type": "execute_result"
    }
   ],
   "source": [
    "y_test_pred_proba"
   ]
  },
  {
   "cell_type": "code",
   "execution_count": null,
   "id": "responsible-victorian",
   "metadata": {},
   "outputs": [],
   "source": []
  },
  {
   "cell_type": "markdown",
   "id": "electric-source",
   "metadata": {},
   "source": [
    "# 6. Make Submission File"
   ]
  },
  {
   "cell_type": "code",
   "execution_count": 66,
   "id": "portuguese-innocent",
   "metadata": {},
   "outputs": [],
   "source": [
    "submission = pd.Series(y_test_pred_proba, name='Best Performance')"
   ]
  },
  {
   "cell_type": "code",
   "execution_count": 67,
   "id": "engaging-chapel",
   "metadata": {},
   "outputs": [
    {
     "data": {
      "text/plain": [
       "0       0.332\n",
       "1       0.386\n",
       "2       0.663\n",
       "3       0.323\n",
       "4       0.302\n",
       "        ...  \n",
       "5995    0.382\n",
       "5996    0.239\n",
       "5997    0.543\n",
       "5998    0.487\n",
       "5999    0.333\n",
       "Name: Best Performance, Length: 6000, dtype: float64"
      ]
     },
     "execution_count": 67,
     "metadata": {},
     "output_type": "execute_result"
    }
   ],
   "source": [
    "submission"
   ]
  },
  {
   "cell_type": "code",
   "execution_count": 68,
   "id": "given-miniature",
   "metadata": {},
   "outputs": [],
   "source": [
    "submission.to_csv('Submission 25-Feb #2.csv', index_label = 'index')"
   ]
  },
  {
   "cell_type": "code",
   "execution_count": 69,
   "id": "daily-ghana",
   "metadata": {},
   "outputs": [],
   "source": [
    "submission.to_csv('submission.csv', index_label = 'index')"
   ]
  },
  {
   "cell_type": "code",
   "execution_count": null,
   "id": "respective-exclusion",
   "metadata": {},
   "outputs": [],
   "source": []
  }
 ],
 "metadata": {
  "kernelspec": {
   "display_name": "Python 3",
   "language": "python",
   "name": "python3"
  },
  "language_info": {
   "codemirror_mode": {
    "name": "ipython",
    "version": 3
   },
   "file_extension": ".py",
   "mimetype": "text/x-python",
   "name": "python",
   "nbconvert_exporter": "python",
   "pygments_lexer": "ipython3",
   "version": "3.8.5"
  }
 },
 "nbformat": 4,
 "nbformat_minor": 5
}

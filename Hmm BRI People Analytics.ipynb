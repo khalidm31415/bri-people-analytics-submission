{
 "cells": [
  {
   "cell_type": "code",
   "execution_count": 1,
   "id": "descending-giving",
   "metadata": {},
   "outputs": [],
   "source": [
    "import numpy as np\n",
    "import pandas as pd\n",
    "import matplotlib.pyplot as plt\n",
    "import seaborn as sns\n",
    "from sklearn.linear_model import LogisticRegression\n",
    "from sklearn.ensemble import RandomForestClassifier\n",
    "from sklearn.tree import DecisionTreeClassifier\n",
    "from sklearn.model_selection import train_test_split\n",
    "from sklearn.metrics import roc_auc_score\n",
    "from sklearn.base import ClassifierMixin\n",
    "from typing import Type"
   ]
  },
  {
   "cell_type": "code",
   "execution_count": 2,
   "id": "statewide-humanitarian",
   "metadata": {},
   "outputs": [],
   "source": [
    "pd.set_option('display.max_columns', None)\n",
    "sns.set()"
   ]
  },
  {
   "cell_type": "code",
   "execution_count": null,
   "id": "advisory-recipe",
   "metadata": {},
   "outputs": [],
   "source": []
  },
  {
   "cell_type": "markdown",
   "id": "extended-flood",
   "metadata": {},
   "source": [
    "## Load Data"
   ]
  },
  {
   "cell_type": "code",
   "execution_count": 3,
   "id": "forward-independence",
   "metadata": {},
   "outputs": [],
   "source": [
    "df_train = pd.read_csv('./data/train.csv')\n",
    "df_test = pd.read_csv('./data/test.csv')"
   ]
  },
  {
   "cell_type": "code",
   "execution_count": 4,
   "id": "threatened-longitude",
   "metadata": {},
   "outputs": [
    {
     "data": {
      "text/plain": [
       "(11153, 22)"
      ]
     },
     "execution_count": 4,
     "metadata": {},
     "output_type": "execute_result"
    }
   ],
   "source": [
    "df_train.shape"
   ]
  },
  {
   "cell_type": "code",
   "execution_count": 5,
   "id": "radical-gregory",
   "metadata": {},
   "outputs": [
    {
     "data": {
      "text/plain": [
       "(6000, 21)"
      ]
     },
     "execution_count": 5,
     "metadata": {},
     "output_type": "execute_result"
    }
   ],
   "source": [
    "df_test.shape"
   ]
  },
  {
   "cell_type": "code",
   "execution_count": 6,
   "id": "ranging-temple",
   "metadata": {
    "scrolled": true
   },
   "outputs": [
    {
     "data": {
      "text/html": [
       "<div>\n",
       "<style scoped>\n",
       "    .dataframe tbody tr th:only-of-type {\n",
       "        vertical-align: middle;\n",
       "    }\n",
       "\n",
       "    .dataframe tbody tr th {\n",
       "        vertical-align: top;\n",
       "    }\n",
       "\n",
       "    .dataframe thead th {\n",
       "        text-align: right;\n",
       "    }\n",
       "</style>\n",
       "<table border=\"1\" class=\"dataframe\">\n",
       "  <thead>\n",
       "    <tr style=\"text-align: right;\">\n",
       "      <th></th>\n",
       "      <th>job_level</th>\n",
       "      <th>job_duration_in_current_job_level</th>\n",
       "      <th>person_level</th>\n",
       "      <th>job_duration_in_current_person_level</th>\n",
       "      <th>job_duration_in_current_branch</th>\n",
       "      <th>Employee_type</th>\n",
       "      <th>gender</th>\n",
       "      <th>age</th>\n",
       "      <th>marital_status_maried(Y/N)</th>\n",
       "      <th>number_of_dependences</th>\n",
       "      <th>Education_level</th>\n",
       "      <th>GPA</th>\n",
       "      <th>year_graduated</th>\n",
       "      <th>job_duration_from_training</th>\n",
       "      <th>branch_rotation</th>\n",
       "      <th>job_rotation</th>\n",
       "      <th>assign_of_otherposition</th>\n",
       "      <th>annual leave</th>\n",
       "      <th>sick_leaves</th>\n",
       "      <th>Last_achievement_%</th>\n",
       "      <th>Achievement_above_100%_during3quartal</th>\n",
       "      <th>Best Performance</th>\n",
       "    </tr>\n",
       "  </thead>\n",
       "  <tbody>\n",
       "    <tr>\n",
       "      <th>0</th>\n",
       "      <td>JG04</td>\n",
       "      <td>1.352775</td>\n",
       "      <td>PG03</td>\n",
       "      <td>1.352775</td>\n",
       "      <td>1.732051</td>\n",
       "      <td>RM_type_A</td>\n",
       "      <td>2</td>\n",
       "      <td>1985</td>\n",
       "      <td>Y</td>\n",
       "      <td>1</td>\n",
       "      <td>level_0</td>\n",
       "      <td>2.86</td>\n",
       "      <td>2011</td>\n",
       "      <td>4</td>\n",
       "      <td>2</td>\n",
       "      <td>3</td>\n",
       "      <td>2</td>\n",
       "      <td>3</td>\n",
       "      <td>0</td>\n",
       "      <td>46.37</td>\n",
       "      <td>0.0</td>\n",
       "      <td>0</td>\n",
       "    </tr>\n",
       "    <tr>\n",
       "      <th>1</th>\n",
       "      <td>JG04</td>\n",
       "      <td>1.292285</td>\n",
       "      <td>PG03</td>\n",
       "      <td>1.292285</td>\n",
       "      <td>1.039230</td>\n",
       "      <td>RM_type_A</td>\n",
       "      <td>2</td>\n",
       "      <td>1989</td>\n",
       "      <td>Y</td>\n",
       "      <td>0</td>\n",
       "      <td>level_1</td>\n",
       "      <td>7.28</td>\n",
       "      <td>2007</td>\n",
       "      <td>4</td>\n",
       "      <td>4</td>\n",
       "      <td>3</td>\n",
       "      <td>0</td>\n",
       "      <td>0</td>\n",
       "      <td>1</td>\n",
       "      <td>47.68</td>\n",
       "      <td>0.0</td>\n",
       "      <td>0</td>\n",
       "    </tr>\n",
       "    <tr>\n",
       "      <th>2</th>\n",
       "      <td>JG05</td>\n",
       "      <td>2.565151</td>\n",
       "      <td>PG06</td>\n",
       "      <td>2.308679</td>\n",
       "      <td>1.780449</td>\n",
       "      <td>RM_type_C</td>\n",
       "      <td>1</td>\n",
       "      <td>1970</td>\n",
       "      <td>Y</td>\n",
       "      <td>1</td>\n",
       "      <td>level_1</td>\n",
       "      <td>0.00</td>\n",
       "      <td>1989</td>\n",
       "      <td>28</td>\n",
       "      <td>10</td>\n",
       "      <td>9</td>\n",
       "      <td>6</td>\n",
       "      <td>2</td>\n",
       "      <td>1</td>\n",
       "      <td>40.73</td>\n",
       "      <td>0.0</td>\n",
       "      <td>0</td>\n",
       "    </tr>\n",
       "    <tr>\n",
       "      <th>3</th>\n",
       "      <td>JG05</td>\n",
       "      <td>2.828427</td>\n",
       "      <td>PG06</td>\n",
       "      <td>1.000000</td>\n",
       "      <td>1.385641</td>\n",
       "      <td>RM_type_A</td>\n",
       "      <td>2</td>\n",
       "      <td>1967</td>\n",
       "      <td>Y</td>\n",
       "      <td>2</td>\n",
       "      <td>level_1</td>\n",
       "      <td>0.00</td>\n",
       "      <td>1987</td>\n",
       "      <td>29</td>\n",
       "      <td>11</td>\n",
       "      <td>6</td>\n",
       "      <td>0</td>\n",
       "      <td>4</td>\n",
       "      <td>10</td>\n",
       "      <td>47.42</td>\n",
       "      <td>0.0</td>\n",
       "      <td>1</td>\n",
       "    </tr>\n",
       "    <tr>\n",
       "      <th>4</th>\n",
       "      <td>JG05</td>\n",
       "      <td>2.828427</td>\n",
       "      <td>PG06</td>\n",
       "      <td>2.828427</td>\n",
       "      <td>0.707107</td>\n",
       "      <td>RM_type_A</td>\n",
       "      <td>2</td>\n",
       "      <td>1965</td>\n",
       "      <td>Y</td>\n",
       "      <td>3</td>\n",
       "      <td>level_1</td>\n",
       "      <td>7.20</td>\n",
       "      <td>1985</td>\n",
       "      <td>30</td>\n",
       "      <td>9</td>\n",
       "      <td>8</td>\n",
       "      <td>2</td>\n",
       "      <td>3</td>\n",
       "      <td>0</td>\n",
       "      <td>47.18</td>\n",
       "      <td>0.0</td>\n",
       "      <td>0</td>\n",
       "    </tr>\n",
       "  </tbody>\n",
       "</table>\n",
       "</div>"
      ],
      "text/plain": [
       "  job_level  job_duration_in_current_job_level person_level  \\\n",
       "0      JG04                           1.352775         PG03   \n",
       "1      JG04                           1.292285         PG03   \n",
       "2      JG05                           2.565151         PG06   \n",
       "3      JG05                           2.828427         PG06   \n",
       "4      JG05                           2.828427         PG06   \n",
       "\n",
       "   job_duration_in_current_person_level  job_duration_in_current_branch  \\\n",
       "0                              1.352775                        1.732051   \n",
       "1                              1.292285                        1.039230   \n",
       "2                              2.308679                        1.780449   \n",
       "3                              1.000000                        1.385641   \n",
       "4                              2.828427                        0.707107   \n",
       "\n",
       "  Employee_type  gender   age marital_status_maried(Y/N)  \\\n",
       "0     RM_type_A       2  1985                          Y   \n",
       "1     RM_type_A       2  1989                          Y   \n",
       "2     RM_type_C       1  1970                          Y   \n",
       "3     RM_type_A       2  1967                          Y   \n",
       "4     RM_type_A       2  1965                          Y   \n",
       "\n",
       "   number_of_dependences Education_level   GPA  year_graduated  \\\n",
       "0                      1         level_0  2.86            2011   \n",
       "1                      0         level_1  7.28            2007   \n",
       "2                      1         level_1  0.00            1989   \n",
       "3                      2         level_1  0.00            1987   \n",
       "4                      3         level_1  7.20            1985   \n",
       "\n",
       "   job_duration_from_training  branch_rotation  job_rotation  \\\n",
       "0                           4                2             3   \n",
       "1                           4                4             3   \n",
       "2                          28               10             9   \n",
       "3                          29               11             6   \n",
       "4                          30                9             8   \n",
       "\n",
       "   assign_of_otherposition  annual leave  sick_leaves  Last_achievement_%  \\\n",
       "0                        2             3            0               46.37   \n",
       "1                        0             0            1               47.68   \n",
       "2                        6             2            1               40.73   \n",
       "3                        0             4           10               47.42   \n",
       "4                        2             3            0               47.18   \n",
       "\n",
       "   Achievement_above_100%_during3quartal  Best Performance  \n",
       "0                                    0.0                 0  \n",
       "1                                    0.0                 0  \n",
       "2                                    0.0                 0  \n",
       "3                                    0.0                 1  \n",
       "4                                    0.0                 0  "
      ]
     },
     "execution_count": 6,
     "metadata": {},
     "output_type": "execute_result"
    }
   ],
   "source": [
    "df_train.head()"
   ]
  },
  {
   "cell_type": "code",
   "execution_count": 7,
   "id": "proud-scheme",
   "metadata": {},
   "outputs": [
    {
     "data": {
      "text/plain": [
       "(6000, 21)"
      ]
     },
     "execution_count": 7,
     "metadata": {},
     "output_type": "execute_result"
    }
   ],
   "source": [
    "df_test.shape"
   ]
  },
  {
   "cell_type": "code",
   "execution_count": null,
   "id": "agricultural-walnut",
   "metadata": {},
   "outputs": [],
   "source": []
  },
  {
   "cell_type": "markdown",
   "id": "identical-hobby",
   "metadata": {},
   "source": [
    "## Check Missing Values"
   ]
  },
  {
   "cell_type": "code",
   "execution_count": 8,
   "id": "invisible-banner",
   "metadata": {},
   "outputs": [
    {
     "data": {
      "text/plain": [
       "job_level                                0\n",
       "job_duration_in_current_job_level        0\n",
       "person_level                             0\n",
       "job_duration_in_current_person_level     0\n",
       "job_duration_in_current_branch           0\n",
       "Employee_type                            0\n",
       "gender                                   0\n",
       "age                                      0\n",
       "marital_status_maried(Y/N)               0\n",
       "number_of_dependences                    0\n",
       "Education_level                          0\n",
       "GPA                                      0\n",
       "year_graduated                           0\n",
       "job_duration_from_training               0\n",
       "branch_rotation                          0\n",
       "job_rotation                             0\n",
       "assign_of_otherposition                  0\n",
       "annual leave                             0\n",
       "sick_leaves                              0\n",
       "Last_achievement_%                       1\n",
       "Achievement_above_100%_during3quartal    1\n",
       "Best Performance                         0\n",
       "dtype: int64"
      ]
     },
     "execution_count": 8,
     "metadata": {},
     "output_type": "execute_result"
    }
   ],
   "source": [
    "df_train.isna().sum()"
   ]
  },
  {
   "cell_type": "code",
   "execution_count": 9,
   "id": "colored-diary",
   "metadata": {},
   "outputs": [
    {
     "data": {
      "text/plain": [
       "job_level                                0\n",
       "job_duration_in_current_job_level        0\n",
       "person_level                             0\n",
       "job_duration_in_current_person_level     0\n",
       "job_duration_in_current_branch           0\n",
       "Employee_type                            0\n",
       "gender                                   0\n",
       "age                                      0\n",
       "marital_status_maried(Y/N)               0\n",
       "number_of_dependences                    0\n",
       "Education_level                          0\n",
       "GPA                                      0\n",
       "year_graduated                           0\n",
       "job_duration_from_training               0\n",
       "branch_rotation                          0\n",
       "job_rotation                             0\n",
       "assign_of_otherposition                  0\n",
       "annual leave                             0\n",
       "sick_leaves                              0\n",
       "Last_achievement_%                       0\n",
       "Achievement_above_100%_during3quartal    0\n",
       "dtype: int64"
      ]
     },
     "execution_count": 9,
     "metadata": {},
     "output_type": "execute_result"
    }
   ],
   "source": [
    "df_test.isna().sum()"
   ]
  },
  {
   "cell_type": "code",
   "execution_count": null,
   "id": "failing-thursday",
   "metadata": {},
   "outputs": [],
   "source": []
  },
  {
   "cell_type": "markdown",
   "id": "eleven-sponsorship",
   "metadata": {},
   "source": [
    "## Gender"
   ]
  },
  {
   "cell_type": "code",
   "execution_count": 10,
   "id": "laden-strip",
   "metadata": {},
   "outputs": [
    {
     "data": {
      "text/plain": [
       "array([2, 1])"
      ]
     },
     "execution_count": 10,
     "metadata": {},
     "output_type": "execute_result"
    }
   ],
   "source": [
    "df_train['gender'].unique()"
   ]
  },
  {
   "cell_type": "code",
   "execution_count": 11,
   "id": "unauthorized-voltage",
   "metadata": {},
   "outputs": [
    {
     "name": "stdout",
     "output_type": "stream",
     "text": [
      "2  ->  2\n",
      "1  ->  1\n"
     ]
    }
   ],
   "source": [
    "def transform_gender(gender: int) -> str:\n",
    "    if gender == 1:\n",
    "        return '1'\n",
    "    if gender == 2:\n",
    "        return '2'\n",
    "    raise ValueError(f'Gender not recognized: {gender}')\n",
    "\n",
    "print(df_train['gender'][0], ' -> ', transform_gender(df_train['gender'][0]))\n",
    "print(df_train['gender'][2], ' -> ', transform_gender(df_train['gender'][2]))"
   ]
  },
  {
   "cell_type": "code",
   "execution_count": null,
   "id": "chinese-treaty",
   "metadata": {},
   "outputs": [],
   "source": []
  },
  {
   "cell_type": "markdown",
   "id": "suited-craps",
   "metadata": {},
   "source": [
    "## Year Graduated"
   ]
  },
  {
   "cell_type": "code",
   "execution_count": 12,
   "id": "fewer-agent",
   "metadata": {},
   "outputs": [
    {
     "data": {
      "text/plain": [
       "array([2011, 2007, 1989, 1987, 1985, 1990, 1988, 2009, 1999, 1992, 2008,\n",
       "       2012, 2013, 1983, 1986, 2004, 2015, 1995, 1996, 1993, 2006, 2016,\n",
       "       2005, 1994, 1984, 1982, 1998, 1991, 2010, 2000, 2014, 2003, 2018,\n",
       "       2001, 2002, 2017, 1997, 2019])"
      ]
     },
     "execution_count": 12,
     "metadata": {},
     "output_type": "execute_result"
    }
   ],
   "source": [
    "df_train['year_graduated'].unique()"
   ]
  },
  {
   "cell_type": "code",
   "execution_count": 13,
   "id": "reported-youth",
   "metadata": {},
   "outputs": [
    {
     "data": {
      "text/plain": [
       "numpy.int64"
      ]
     },
     "execution_count": 13,
     "metadata": {},
     "output_type": "execute_result"
    }
   ],
   "source": [
    "type(df_train['year_graduated'][0])"
   ]
  },
  {
   "cell_type": "code",
   "execution_count": 14,
   "id": "operational-swimming",
   "metadata": {},
   "outputs": [
    {
     "name": "stdout",
     "output_type": "stream",
     "text": [
      "2011  ->  10\n",
      "2007  ->  14\n"
     ]
    }
   ],
   "source": [
    "def transform_year_graduated(year_graduated: int) -> int:\n",
    "    if not isinstance(year_graduated, (int, np.integer)):\n",
    "        raise ValueError(f'Invalid year: {year_graduated}')\n",
    "\n",
    "    year_since_graduated = 2021 - year_graduated\n",
    "    return year_since_graduated\n",
    "\n",
    "print(df_train['year_graduated'][0], ' -> ', transform_year_graduated(df_train['year_graduated'][0]))\n",
    "print(df_train['year_graduated'][1], ' -> ', transform_year_graduated(df_train['year_graduated'][1]))"
   ]
  },
  {
   "cell_type": "code",
   "execution_count": null,
   "id": "worth-project",
   "metadata": {},
   "outputs": [],
   "source": []
  },
  {
   "cell_type": "markdown",
   "id": "present-chest",
   "metadata": {},
   "source": [
    "## Age"
   ]
  },
  {
   "cell_type": "code",
   "execution_count": 15,
   "id": "monetary-character",
   "metadata": {},
   "outputs": [
    {
     "data": {
      "text/plain": [
       "array([1985, 1989, 1970, 1967, 1965, 1971, 1969, 1968, 1991, 1966, 1993,\n",
       "       1980, 1974, 1988, 1990, 1994, 1964, 1996, 1986, 1977, 1976, 1975,\n",
       "       1995, 1963, 1992, 1981, 1987, 1973, 1979, 1978, 1972, 1984, 1983,\n",
       "       1982, 1997])"
      ]
     },
     "execution_count": 15,
     "metadata": {},
     "output_type": "execute_result"
    }
   ],
   "source": [
    "df_train['age'].unique()"
   ]
  },
  {
   "cell_type": "code",
   "execution_count": 16,
   "id": "imperial-reply",
   "metadata": {},
   "outputs": [
    {
     "name": "stdout",
     "output_type": "stream",
     "text": [
      "1985  ->  36\n",
      "1989  ->  32\n"
     ]
    }
   ],
   "source": [
    "def transform_age(year_born: int) -> int:\n",
    "    if not isinstance(year_born, (int, np.integer)):\n",
    "        raise ValueError(f'Invalid year: {year_born}')\n",
    "\n",
    "    age = 2021 - year_born\n",
    "    return age\n",
    "\n",
    "print(df_train['age'][0], ' -> ', transform_age(df_train['age'][0]))\n",
    "print(df_train['age'][1], ' -> ', transform_age(df_train['age'][1]))"
   ]
  },
  {
   "cell_type": "code",
   "execution_count": null,
   "id": "dutch-qatar",
   "metadata": {},
   "outputs": [],
   "source": []
  },
  {
   "cell_type": "markdown",
   "id": "british-shareware",
   "metadata": {},
   "source": [
    "## GPA"
   ]
  },
  {
   "cell_type": "code",
   "execution_count": 17,
   "id": "sustainable-massage",
   "metadata": {},
   "outputs": [
    {
     "data": {
      "text/plain": [
       "<AxesSubplot:>"
      ]
     },
     "execution_count": 17,
     "metadata": {},
     "output_type": "execute_result"
    },
    {
     "data": {
      "image/png": "[encoded data removed]",
      "text/plain": [
       "<Figure size 432x288 with 1 Axes>"
      ]
     },
     "metadata": {},
     "output_type": "display_data"
    }
   ],
   "source": [
    "df_train[['GPA']].boxplot()"
   ]
  },
  {
   "cell_type": "code",
   "execution_count": 18,
   "id": "impressed-executive",
   "metadata": {},
   "outputs": [
    {
     "data": {
      "text/html": [
       "<div>\n",
       "<style scoped>\n",
       "    .dataframe tbody tr th:only-of-type {\n",
       "        vertical-align: middle;\n",
       "    }\n",
       "\n",
       "    .dataframe tbody tr th {\n",
       "        vertical-align: top;\n",
       "    }\n",
       "\n",
       "    .dataframe thead th {\n",
       "        text-align: right;\n",
       "    }\n",
       "</style>\n",
       "<table border=\"1\" class=\"dataframe\">\n",
       "  <thead>\n",
       "    <tr style=\"text-align: right;\">\n",
       "      <th></th>\n",
       "      <th>GPA</th>\n",
       "    </tr>\n",
       "  </thead>\n",
       "  <tbody>\n",
       "    <tr>\n",
       "      <th>count</th>\n",
       "      <td>11153.000000</td>\n",
       "    </tr>\n",
       "    <tr>\n",
       "      <th>mean</th>\n",
       "      <td>3.176195</td>\n",
       "    </tr>\n",
       "    <tr>\n",
       "      <th>std</th>\n",
       "      <td>13.321687</td>\n",
       "    </tr>\n",
       "    <tr>\n",
       "      <th>min</th>\n",
       "      <td>0.000000</td>\n",
       "    </tr>\n",
       "    <tr>\n",
       "      <th>25%</th>\n",
       "      <td>2.820000</td>\n",
       "    </tr>\n",
       "    <tr>\n",
       "      <th>50%</th>\n",
       "      <td>3.070000</td>\n",
       "    </tr>\n",
       "    <tr>\n",
       "      <th>75%</th>\n",
       "      <td>3.270000</td>\n",
       "    </tr>\n",
       "    <tr>\n",
       "      <th>max</th>\n",
       "      <td>378.000000</td>\n",
       "    </tr>\n",
       "  </tbody>\n",
       "</table>\n",
       "</div>"
      ],
      "text/plain": [
       "                GPA\n",
       "count  11153.000000\n",
       "mean       3.176195\n",
       "std       13.321687\n",
       "min        0.000000\n",
       "25%        2.820000\n",
       "50%        3.070000\n",
       "75%        3.270000\n",
       "max      378.000000"
      ]
     },
     "execution_count": 18,
     "metadata": {},
     "output_type": "execute_result"
    }
   ],
   "source": [
    "df_train[['GPA']].describe()"
   ]
  },
  {
   "cell_type": "code",
   "execution_count": 82,
   "id": "saving-while",
   "metadata": {},
   "outputs": [
    {
     "data": {
      "text/html": [
       "<div>\n",
       "<style scoped>\n",
       "    .dataframe tbody tr th:only-of-type {\n",
       "        vertical-align: middle;\n",
       "    }\n",
       "\n",
       "    .dataframe tbody tr th {\n",
       "        vertical-align: top;\n",
       "    }\n",
       "\n",
       "    .dataframe thead th {\n",
       "        text-align: right;\n",
       "    }\n",
       "</style>\n",
       "<table border=\"1\" class=\"dataframe\">\n",
       "  <thead>\n",
       "    <tr style=\"text-align: right;\">\n",
       "      <th></th>\n",
       "      <th>GPA</th>\n",
       "    </tr>\n",
       "  </thead>\n",
       "  <tbody>\n",
       "    <tr>\n",
       "      <th>1</th>\n",
       "      <td>7.28</td>\n",
       "    </tr>\n",
       "    <tr>\n",
       "      <th>4</th>\n",
       "      <td>7.20</td>\n",
       "    </tr>\n",
       "    <tr>\n",
       "      <th>9</th>\n",
       "      <td>4.19</td>\n",
       "    </tr>\n",
       "    <tr>\n",
       "      <th>12</th>\n",
       "      <td>8.30</td>\n",
       "    </tr>\n",
       "    <tr>\n",
       "      <th>15</th>\n",
       "      <td>6.82</td>\n",
       "    </tr>\n",
       "  </tbody>\n",
       "</table>\n",
       "</div>"
      ],
      "text/plain": [
       "     GPA\n",
       "1   7.28\n",
       "4   7.20\n",
       "9   4.19\n",
       "12  8.30\n",
       "15  6.82"
      ]
     },
     "execution_count": 82,
     "metadata": {},
     "output_type": "execute_result"
    }
   ],
   "source": [
    "df_train[df_train['GPA'] > 4][['GPA']].head()"
   ]
  },
  {
   "cell_type": "code",
   "execution_count": 89,
   "id": "sustained-hacker",
   "metadata": {},
   "outputs": [
    {
     "data": {
      "text/plain": [
       "Education_level\n",
       "level_1    32\n",
       "level_3     1\n",
       "level_4    19\n",
       "Name: Education_level, dtype: int64"
      ]
     },
     "execution_count": 89,
     "metadata": {},
     "output_type": "execute_result"
    }
   ],
   "source": [
    "df_train[df_train['GPA'] > 4].groupby('Education_level').Education_level.count()"
   ]
  },
  {
   "cell_type": "code",
   "execution_count": 20,
   "id": "rolled-decade",
   "metadata": {},
   "outputs": [
    {
     "data": {
      "text/plain": [
       "52"
      ]
     },
     "execution_count": 20,
     "metadata": {},
     "output_type": "execute_result"
    }
   ],
   "source": [
    "len(df_train[df_train['GPA'] > 4])"
   ]
  },
  {
   "cell_type": "code",
   "execution_count": 80,
   "id": "advance-candidate",
   "metadata": {},
   "outputs": [
    {
     "data": {
      "text/plain": [
       "31"
      ]
     },
     "execution_count": 80,
     "metadata": {},
     "output_type": "execute_result"
    }
   ],
   "source": [
    "len(df_test[df_test['GPA'] > 4])"
   ]
  },
  {
   "cell_type": "code",
   "execution_count": 90,
   "id": "peaceful-sending",
   "metadata": {},
   "outputs": [
    {
     "name": "stdout",
     "output_type": "stream",
     "text": [
      "7.28  ->  0\n",
      "7.2  ->  0\n"
     ]
    }
   ],
   "source": [
    "def transform_gpa(gpa: float) -> float:\n",
    "    if not isinstance(gpa, (float, np.float_)):\n",
    "        raise ValueError(f'Invalid GPA: {gpa}')\n",
    "    if gpa > 4:\n",
    "        gpa = 0\n",
    "    return gpa\n",
    "\n",
    "print(df_train['GPA'][1], ' -> ', transform_gpa(df_train['GPA'][1]))\n",
    "print(df_train['GPA'][4], ' -> ', transform_gpa(df_train['GPA'][4]))"
   ]
  },
  {
   "cell_type": "code",
   "execution_count": null,
   "id": "progressive-operations",
   "metadata": {},
   "outputs": [],
   "source": []
  },
  {
   "cell_type": "markdown",
   "id": "approximate-aruba",
   "metadata": {},
   "source": [
    "## Job Level"
   ]
  },
  {
   "cell_type": "code",
   "execution_count": 91,
   "id": "compliant-saver",
   "metadata": {},
   "outputs": [
    {
     "name": "stdout",
     "output_type": "stream",
     "text": [
      "JG04  ->  1\n",
      "JG04  ->  1\n"
     ]
    }
   ],
   "source": [
    "def transform_job_level(job_level: str) -> int:\n",
    "    job_level_ordinal = {\n",
    "        'JG06' : 3,\n",
    "        'JG05' : 2,\n",
    "        'JG04' : 1,\n",
    "        'JG03' : 0\n",
    "    }.get(job_level)\n",
    "\n",
    "    if job_level_ordinal is None:\n",
    "        raise ValueError(f'Invalid job level: {job_level}')\n",
    "\n",
    "    return job_level_ordinal\n",
    "\n",
    "print(df_train['job_level'][0], ' -> ', transform_job_level(df_train['job_level'][0]))\n",
    "print(df_train['job_level'][1], ' -> ', transform_job_level(df_train['job_level'][1]))"
   ]
  },
  {
   "cell_type": "code",
   "execution_count": null,
   "id": "cooked-monday",
   "metadata": {},
   "outputs": [],
   "source": []
  },
  {
   "cell_type": "markdown",
   "id": "dietary-trade",
   "metadata": {},
   "source": [
    "## Person Level"
   ]
  },
  {
   "cell_type": "code",
   "execution_count": 92,
   "id": "successful-martial",
   "metadata": {},
   "outputs": [
    {
     "name": "stdout",
     "output_type": "stream",
     "text": [
      "PG03  ->  2\n",
      "PG03  ->  2\n"
     ]
    }
   ],
   "source": [
    "def transform_person_level(person_level: str) -> int:\n",
    "    person_level_ordinal = {\n",
    "        'PG08' : 7,\n",
    "        'PG07' : 6,\n",
    "        'PG06' : 5,\n",
    "        'PG05' : 4,\n",
    "        'PG04' : 3,\n",
    "        'PG03' : 2,\n",
    "        'PG02' : 1,\n",
    "        'PG01' : 0\n",
    "    }.get(person_level)\n",
    "\n",
    "    if person_level_ordinal is None:\n",
    "        raise ValueError(f'Invalid person level: {person_level}')\n",
    "\n",
    "    return person_level_ordinal\n",
    "\n",
    "print(df_train['person_level'][0], ' -> ', transform_person_level(df_train['person_level'][0]))\n",
    "print(df_train['person_level'][1], ' -> ', transform_person_level(df_train['person_level'][1]))"
   ]
  },
  {
   "cell_type": "code",
   "execution_count": null,
   "id": "distinct-warehouse",
   "metadata": {},
   "outputs": [],
   "source": []
  },
  {
   "cell_type": "markdown",
   "id": "announced-chicken",
   "metadata": {},
   "source": [
    "## Education Level"
   ]
  },
  {
   "cell_type": "code",
   "execution_count": 93,
   "id": "popular-version",
   "metadata": {},
   "outputs": [
    {
     "name": "stdout",
     "output_type": "stream",
     "text": [
      "level_0  ->  0\n",
      "level_1  ->  1\n"
     ]
    }
   ],
   "source": [
    "def transform_education_level(education_level: str) -> int:\n",
    "    education_level_ordinal = {\n",
    "        'level_5' : 5,\n",
    "        'level_4' : 4,\n",
    "        'level_3' : 3,\n",
    "        'level_2' : 2,\n",
    "        'level_1' : 1,\n",
    "        'level_0' : 0\n",
    "    }.get(education_level)\n",
    "\n",
    "    if education_level_ordinal is None:\n",
    "        raise ValueError(f'Invalid education level: {education_level}')\n",
    "\n",
    "    return education_level_ordinal\n",
    "\n",
    "print(df_train['Education_level'][0], ' -> ', transform_education_level(df_train['Education_level'][0]))\n",
    "print(df_train['Education_level'][1], ' -> ', transform_education_level(df_train['Education_level'][1]))"
   ]
  },
  {
   "cell_type": "code",
   "execution_count": null,
   "id": "olive-employment",
   "metadata": {},
   "outputs": [],
   "source": []
  },
  {
   "cell_type": "markdown",
   "id": "inside-envelope",
   "metadata": {},
   "source": [
    "## Transform The Dataframe"
   ]
  },
  {
   "cell_type": "code",
   "execution_count": 97,
   "id": "reflected-principle",
   "metadata": {},
   "outputs": [],
   "source": [
    "def transform_df(df: pd.DataFrame):\n",
    "    df_transformed = df.copy()\n",
    "    df_transformed = df_transformed.dropna()\n",
    "    df_transformed['gender'] =  df_transformed['gender'].map(lambda gender: transform_gender(gender))\n",
    "    df_transformed['year_graduated'] =  df_transformed['year_graduated'].map(lambda year_graduated: transform_year_graduated(year_graduated))\n",
    "    df_transformed['age'] =  df_transformed['age'].map(lambda age: transform_age(age))\n",
    "    df_transformed['GPA'] =  df_transformed['GPA'].map(lambda gpa: transform_gpa(gpa))\n",
    "    df_transformed['job_level'] =  df_transformed['job_level'].map(lambda job_level: transform_job_level(job_level))\n",
    "    df_transformed['person_level'] =  df_transformed['person_level'].map(lambda person_level: transform_person_level(person_level))\n",
    "    df_transformed = pd.get_dummies(df_transformed, drop_first=True)\n",
    "    return df_transformed"
   ]
  },
  {
   "cell_type": "code",
   "execution_count": 98,
   "id": "referenced-inquiry",
   "metadata": {},
   "outputs": [],
   "source": [
    "df_train_transformed = transform_df(df_train)"
   ]
  },
  {
   "cell_type": "code",
   "execution_count": 99,
   "id": "capital-brick",
   "metadata": {},
   "outputs": [
    {
     "data": {
      "text/plain": [
       "(11152, 27)"
      ]
     },
     "execution_count": 99,
     "metadata": {},
     "output_type": "execute_result"
    }
   ],
   "source": [
    "df_train_transformed.shape"
   ]
  },
  {
   "cell_type": "code",
   "execution_count": 100,
   "id": "demonstrated-level",
   "metadata": {},
   "outputs": [
    {
     "data": {
      "text/html": [
       "<div>\n",
       "<style scoped>\n",
       "    .dataframe tbody tr th:only-of-type {\n",
       "        vertical-align: middle;\n",
       "    }\n",
       "\n",
       "    .dataframe tbody tr th {\n",
       "        vertical-align: top;\n",
       "    }\n",
       "\n",
       "    .dataframe thead th {\n",
       "        text-align: right;\n",
       "    }\n",
       "</style>\n",
       "<table border=\"1\" class=\"dataframe\">\n",
       "  <thead>\n",
       "    <tr style=\"text-align: right;\">\n",
       "      <th></th>\n",
       "      <th>job_level</th>\n",
       "      <th>job_duration_in_current_job_level</th>\n",
       "      <th>person_level</th>\n",
       "      <th>job_duration_in_current_person_level</th>\n",
       "      <th>job_duration_in_current_branch</th>\n",
       "      <th>age</th>\n",
       "      <th>number_of_dependences</th>\n",
       "      <th>GPA</th>\n",
       "      <th>year_graduated</th>\n",
       "      <th>job_duration_from_training</th>\n",
       "      <th>branch_rotation</th>\n",
       "      <th>job_rotation</th>\n",
       "      <th>assign_of_otherposition</th>\n",
       "      <th>annual leave</th>\n",
       "      <th>sick_leaves</th>\n",
       "      <th>Last_achievement_%</th>\n",
       "      <th>Achievement_above_100%_during3quartal</th>\n",
       "      <th>Best Performance</th>\n",
       "      <th>Employee_type_RM_type_B</th>\n",
       "      <th>Employee_type_RM_type_C</th>\n",
       "      <th>gender_2</th>\n",
       "      <th>marital_status_maried(Y/N)_Y</th>\n",
       "      <th>Education_level_level_1</th>\n",
       "      <th>Education_level_level_2</th>\n",
       "      <th>Education_level_level_3</th>\n",
       "      <th>Education_level_level_4</th>\n",
       "      <th>Education_level_level_5</th>\n",
       "    </tr>\n",
       "  </thead>\n",
       "  <tbody>\n",
       "    <tr>\n",
       "      <th>0</th>\n",
       "      <td>1</td>\n",
       "      <td>1.352775</td>\n",
       "      <td>2</td>\n",
       "      <td>1.352775</td>\n",
       "      <td>1.732051</td>\n",
       "      <td>36</td>\n",
       "      <td>1</td>\n",
       "      <td>2.86</td>\n",
       "      <td>10</td>\n",
       "      <td>4</td>\n",
       "      <td>2</td>\n",
       "      <td>3</td>\n",
       "      <td>2</td>\n",
       "      <td>3</td>\n",
       "      <td>0</td>\n",
       "      <td>46.37</td>\n",
       "      <td>0.0</td>\n",
       "      <td>0</td>\n",
       "      <td>0</td>\n",
       "      <td>0</td>\n",
       "      <td>1</td>\n",
       "      <td>1</td>\n",
       "      <td>0</td>\n",
       "      <td>0</td>\n",
       "      <td>0</td>\n",
       "      <td>0</td>\n",
       "      <td>0</td>\n",
       "    </tr>\n",
       "    <tr>\n",
       "      <th>1</th>\n",
       "      <td>1</td>\n",
       "      <td>1.292285</td>\n",
       "      <td>2</td>\n",
       "      <td>1.292285</td>\n",
       "      <td>1.039230</td>\n",
       "      <td>32</td>\n",
       "      <td>0</td>\n",
       "      <td>0.00</td>\n",
       "      <td>14</td>\n",
       "      <td>4</td>\n",
       "      <td>4</td>\n",
       "      <td>3</td>\n",
       "      <td>0</td>\n",
       "      <td>0</td>\n",
       "      <td>1</td>\n",
       "      <td>47.68</td>\n",
       "      <td>0.0</td>\n",
       "      <td>0</td>\n",
       "      <td>0</td>\n",
       "      <td>0</td>\n",
       "      <td>1</td>\n",
       "      <td>1</td>\n",
       "      <td>1</td>\n",
       "      <td>0</td>\n",
       "      <td>0</td>\n",
       "      <td>0</td>\n",
       "      <td>0</td>\n",
       "    </tr>\n",
       "    <tr>\n",
       "      <th>2</th>\n",
       "      <td>2</td>\n",
       "      <td>2.565151</td>\n",
       "      <td>5</td>\n",
       "      <td>2.308679</td>\n",
       "      <td>1.780449</td>\n",
       "      <td>51</td>\n",
       "      <td>1</td>\n",
       "      <td>0.00</td>\n",
       "      <td>32</td>\n",
       "      <td>28</td>\n",
       "      <td>10</td>\n",
       "      <td>9</td>\n",
       "      <td>6</td>\n",
       "      <td>2</td>\n",
       "      <td>1</td>\n",
       "      <td>40.73</td>\n",
       "      <td>0.0</td>\n",
       "      <td>0</td>\n",
       "      <td>0</td>\n",
       "      <td>1</td>\n",
       "      <td>0</td>\n",
       "      <td>1</td>\n",
       "      <td>1</td>\n",
       "      <td>0</td>\n",
       "      <td>0</td>\n",
       "      <td>0</td>\n",
       "      <td>0</td>\n",
       "    </tr>\n",
       "    <tr>\n",
       "      <th>3</th>\n",
       "      <td>2</td>\n",
       "      <td>2.828427</td>\n",
       "      <td>5</td>\n",
       "      <td>1.000000</td>\n",
       "      <td>1.385641</td>\n",
       "      <td>54</td>\n",
       "      <td>2</td>\n",
       "      <td>0.00</td>\n",
       "      <td>34</td>\n",
       "      <td>29</td>\n",
       "      <td>11</td>\n",
       "      <td>6</td>\n",
       "      <td>0</td>\n",
       "      <td>4</td>\n",
       "      <td>10</td>\n",
       "      <td>47.42</td>\n",
       "      <td>0.0</td>\n",
       "      <td>1</td>\n",
       "      <td>0</td>\n",
       "      <td>0</td>\n",
       "      <td>1</td>\n",
       "      <td>1</td>\n",
       "      <td>1</td>\n",
       "      <td>0</td>\n",
       "      <td>0</td>\n",
       "      <td>0</td>\n",
       "      <td>0</td>\n",
       "    </tr>\n",
       "    <tr>\n",
       "      <th>4</th>\n",
       "      <td>2</td>\n",
       "      <td>2.828427</td>\n",
       "      <td>5</td>\n",
       "      <td>2.828427</td>\n",
       "      <td>0.707107</td>\n",
       "      <td>56</td>\n",
       "      <td>3</td>\n",
       "      <td>0.00</td>\n",
       "      <td>36</td>\n",
       "      <td>30</td>\n",
       "      <td>9</td>\n",
       "      <td>8</td>\n",
       "      <td>2</td>\n",
       "      <td>3</td>\n",
       "      <td>0</td>\n",
       "      <td>47.18</td>\n",
       "      <td>0.0</td>\n",
       "      <td>0</td>\n",
       "      <td>0</td>\n",
       "      <td>0</td>\n",
       "      <td>1</td>\n",
       "      <td>1</td>\n",
       "      <td>1</td>\n",
       "      <td>0</td>\n",
       "      <td>0</td>\n",
       "      <td>0</td>\n",
       "      <td>0</td>\n",
       "    </tr>\n",
       "  </tbody>\n",
       "</table>\n",
       "</div>"
      ],
      "text/plain": [
       "   job_level  job_duration_in_current_job_level  person_level  \\\n",
       "0          1                           1.352775             2   \n",
       "1          1                           1.292285             2   \n",
       "2          2                           2.565151             5   \n",
       "3          2                           2.828427             5   \n",
       "4          2                           2.828427             5   \n",
       "\n",
       "   job_duration_in_current_person_level  job_duration_in_current_branch  age  \\\n",
       "0                              1.352775                        1.732051   36   \n",
       "1                              1.292285                        1.039230   32   \n",
       "2                              2.308679                        1.780449   51   \n",
       "3                              1.000000                        1.385641   54   \n",
       "4                              2.828427                        0.707107   56   \n",
       "\n",
       "   number_of_dependences   GPA  year_graduated  job_duration_from_training  \\\n",
       "0                      1  2.86              10                           4   \n",
       "1                      0  0.00              14                           4   \n",
       "2                      1  0.00              32                          28   \n",
       "3                      2  0.00              34                          29   \n",
       "4                      3  0.00              36                          30   \n",
       "\n",
       "   branch_rotation  job_rotation  assign_of_otherposition  annual leave  \\\n",
       "0                2             3                        2             3   \n",
       "1                4             3                        0             0   \n",
       "2               10             9                        6             2   \n",
       "3               11             6                        0             4   \n",
       "4                9             8                        2             3   \n",
       "\n",
       "   sick_leaves  Last_achievement_%  Achievement_above_100%_during3quartal  \\\n",
       "0            0               46.37                                    0.0   \n",
       "1            1               47.68                                    0.0   \n",
       "2            1               40.73                                    0.0   \n",
       "3           10               47.42                                    0.0   \n",
       "4            0               47.18                                    0.0   \n",
       "\n",
       "   Best Performance  Employee_type_RM_type_B  Employee_type_RM_type_C  \\\n",
       "0                 0                        0                        0   \n",
       "1                 0                        0                        0   \n",
       "2                 0                        0                        1   \n",
       "3                 1                        0                        0   \n",
       "4                 0                        0                        0   \n",
       "\n",
       "   gender_2  marital_status_maried(Y/N)_Y  Education_level_level_1  \\\n",
       "0         1                             1                        0   \n",
       "1         1                             1                        1   \n",
       "2         0                             1                        1   \n",
       "3         1                             1                        1   \n",
       "4         1                             1                        1   \n",
       "\n",
       "   Education_level_level_2  Education_level_level_3  Education_level_level_4  \\\n",
       "0                        0                        0                        0   \n",
       "1                        0                        0                        0   \n",
       "2                        0                        0                        0   \n",
       "3                        0                        0                        0   \n",
       "4                        0                        0                        0   \n",
       "\n",
       "   Education_level_level_5  \n",
       "0                        0  \n",
       "1                        0  \n",
       "2                        0  \n",
       "3                        0  \n",
       "4                        0  "
      ]
     },
     "execution_count": 100,
     "metadata": {},
     "output_type": "execute_result"
    }
   ],
   "source": [
    "df_train_transformed.head()"
   ]
  },
  {
   "cell_type": "code",
   "execution_count": null,
   "id": "related-travel",
   "metadata": {},
   "outputs": [],
   "source": []
  },
  {
   "cell_type": "code",
   "execution_count": null,
   "id": "direct-japanese",
   "metadata": {},
   "outputs": [],
   "source": []
  },
  {
   "cell_type": "markdown",
   "id": "manufactured-panama",
   "metadata": {},
   "source": [
    "## Split Data"
   ]
  },
  {
   "cell_type": "code",
   "execution_count": 101,
   "id": "touched-shepherd",
   "metadata": {},
   "outputs": [],
   "source": [
    "X = df_train_transformed.drop('Best Performance', axis=1)\n",
    "y = df_train_transformed['Best Performance']"
   ]
  },
  {
   "cell_type": "code",
   "execution_count": 102,
   "id": "streaming-offset",
   "metadata": {},
   "outputs": [
    {
     "data": {
      "text/plain": [
       "array([0, 1])"
      ]
     },
     "execution_count": 102,
     "metadata": {},
     "output_type": "execute_result"
    }
   ],
   "source": [
    "y.unique()"
   ]
  },
  {
   "cell_type": "code",
   "execution_count": 103,
   "id": "sonic-disco",
   "metadata": {},
   "outputs": [],
   "source": [
    "X_train, X_val, y_train, y_val = train_test_split(X, y, random_state=42)"
   ]
  },
  {
   "cell_type": "code",
   "execution_count": null,
   "id": "protecting-nickel",
   "metadata": {},
   "outputs": [],
   "source": []
  },
  {
   "cell_type": "markdown",
   "id": "essential-adapter",
   "metadata": {},
   "source": [
    "## Train model on split data"
   ]
  },
  {
   "cell_type": "code",
   "execution_count": 104,
   "id": "opened-tunisia",
   "metadata": {},
   "outputs": [],
   "source": [
    "def train_model(model: ClassifierMixin):\n",
    "    model.fit(X_train, y_train)\n",
    "    print(f'Accuracy on train set: {model.score(X_train, y_train)}')\n",
    "    print(f'Accuracy on validation set: {model.score(X_val, y_val)}')\n",
    "    print(f'ROC AUC score on train set: {roc_auc_score(y_train, model.predict_proba(X_train)[:,1])}')\n",
    "    print(f'ROC AUC score on test set: {roc_auc_score(y_val, model.predict_proba(X_val)[:,1])}')"
   ]
  },
  {
   "cell_type": "markdown",
   "id": "played-thickness",
   "metadata": {},
   "source": [
    "### Logistic Regression"
   ]
  },
  {
   "cell_type": "code",
   "execution_count": 105,
   "id": "rational-niger",
   "metadata": {},
   "outputs": [
    {
     "name": "stdout",
     "output_type": "stream",
     "text": [
      "Accuracy on train set: 0.8529411764705882\n",
      "Accuracy on validation set: 0.8540172166427547\n",
      "ROC AUC score on train set: 0.5460472123644702\n",
      "ROC AUC score on test set: 0.5301728363467129\n"
     ]
    },
    {
     "name": "stderr",
     "output_type": "stream",
     "text": [
      "/home/khld/.local/lib/python3.8/site-packages/sklearn/linear_model/_logistic.py:763: ConvergenceWarning: lbfgs failed to converge (status=1):\n",
      "STOP: TOTAL NO. of ITERATIONS REACHED LIMIT.\n",
      "\n",
      "Increase the number of iterations (max_iter) or scale the data as shown in:\n",
      "    https://scikit-learn.org/stable/modules/preprocessing.html\n",
      "Please also refer to the documentation for alternative solver options:\n",
      "    https://scikit-learn.org/stable/modules/linear_model.html#logistic-regression\n",
      "  n_iter_i = _check_optimize_result(\n"
     ]
    }
   ],
   "source": [
    "train_model(LogisticRegression())"
   ]
  },
  {
   "cell_type": "markdown",
   "id": "liable-sharing",
   "metadata": {},
   "source": [
    "### Random Forest"
   ]
  },
  {
   "cell_type": "code",
   "execution_count": 106,
   "id": "polar-chick",
   "metadata": {},
   "outputs": [
    {
     "name": "stdout",
     "output_type": "stream",
     "text": [
      "Accuracy on train set: 1.0\n",
      "Accuracy on validation set: 0.8529411764705882\n",
      "ROC AUC score on train set: 1.0\n",
      "ROC AUC score on test set: 0.5674184550707022\n"
     ]
    }
   ],
   "source": [
    "train_model(RandomForestClassifier(n_estimators=400, random_state=42))"
   ]
  },
  {
   "cell_type": "markdown",
   "id": "patent-warner",
   "metadata": {},
   "source": [
    "## Decision Tree"
   ]
  },
  {
   "cell_type": "code",
   "execution_count": 107,
   "id": "sonic-volleyball",
   "metadata": {},
   "outputs": [
    {
     "name": "stdout",
     "output_type": "stream",
     "text": [
      "Accuracy on train set: 1.0\n",
      "Accuracy on validation set: 0.7428263988522238\n",
      "ROC AUC score on train set: 1.0\n",
      "ROC AUC score on test set: 0.534714833958849\n"
     ]
    }
   ],
   "source": [
    "train_model(DecisionTreeClassifier(random_state=42))"
   ]
  },
  {
   "cell_type": "code",
   "execution_count": null,
   "id": "dietary-barcelona",
   "metadata": {},
   "outputs": [],
   "source": []
  },
  {
   "cell_type": "markdown",
   "id": "generous-listening",
   "metadata": {},
   "source": [
    "## Train model on all data"
   ]
  },
  {
   "cell_type": "code",
   "execution_count": 108,
   "id": "compact-tracy",
   "metadata": {},
   "outputs": [
    {
     "name": "stdout",
     "output_type": "stream",
     "text": [
      "Accuracy on train set: 1.0\n",
      "Accuracy on validation set: 1.0\n"
     ]
    }
   ],
   "source": [
    "rf = RandomForestClassifier(n_estimators=400, random_state=42)\n",
    "rf.fit(X, y)\n",
    "print(f'Accuracy on train set: {rf.score(X, y)}')\n",
    "print(f'Accuracy on validation set: {rf.score(X, y)}')"
   ]
  },
  {
   "cell_type": "code",
   "execution_count": null,
   "id": "bigger-madonna",
   "metadata": {},
   "outputs": [],
   "source": []
  },
  {
   "cell_type": "markdown",
   "id": "registered-hygiene",
   "metadata": {},
   "source": [
    "# Predict Test Set"
   ]
  },
  {
   "cell_type": "code",
   "execution_count": 109,
   "id": "identified-security",
   "metadata": {},
   "outputs": [
    {
     "data": {
      "text/plain": [
       "(6000, 21)"
      ]
     },
     "execution_count": 109,
     "metadata": {},
     "output_type": "execute_result"
    }
   ],
   "source": [
    "df_test.shape"
   ]
  },
  {
   "cell_type": "code",
   "execution_count": 110,
   "id": "simple-found",
   "metadata": {},
   "outputs": [],
   "source": [
    "X_test = transform_df(df_test)"
   ]
  },
  {
   "cell_type": "code",
   "execution_count": 111,
   "id": "social-raleigh",
   "metadata": {},
   "outputs": [
    {
     "data": {
      "text/plain": [
       "(6000, 26)"
      ]
     },
     "execution_count": 111,
     "metadata": {},
     "output_type": "execute_result"
    }
   ],
   "source": [
    "X_test.shape"
   ]
  },
  {
   "cell_type": "code",
   "execution_count": 112,
   "id": "bronze-slovakia",
   "metadata": {},
   "outputs": [
    {
     "data": {
      "text/html": [
       "<div>\n",
       "<style scoped>\n",
       "    .dataframe tbody tr th:only-of-type {\n",
       "        vertical-align: middle;\n",
       "    }\n",
       "\n",
       "    .dataframe tbody tr th {\n",
       "        vertical-align: top;\n",
       "    }\n",
       "\n",
       "    .dataframe thead th {\n",
       "        text-align: right;\n",
       "    }\n",
       "</style>\n",
       "<table border=\"1\" class=\"dataframe\">\n",
       "  <thead>\n",
       "    <tr style=\"text-align: right;\">\n",
       "      <th></th>\n",
       "      <th>job_level</th>\n",
       "      <th>job_duration_in_current_job_level</th>\n",
       "      <th>person_level</th>\n",
       "      <th>job_duration_in_current_person_level</th>\n",
       "      <th>job_duration_in_current_branch</th>\n",
       "      <th>age</th>\n",
       "      <th>number_of_dependences</th>\n",
       "      <th>GPA</th>\n",
       "      <th>year_graduated</th>\n",
       "      <th>job_duration_from_training</th>\n",
       "      <th>branch_rotation</th>\n",
       "      <th>job_rotation</th>\n",
       "      <th>assign_of_otherposition</th>\n",
       "      <th>annual leave</th>\n",
       "      <th>sick_leaves</th>\n",
       "      <th>Last_achievement_%</th>\n",
       "      <th>Achievement_above_100%_during3quartal</th>\n",
       "      <th>Employee_type_RM_type_B</th>\n",
       "      <th>Employee_type_RM_type_C</th>\n",
       "      <th>gender_2</th>\n",
       "      <th>marital_status_maried(Y/N)_Y</th>\n",
       "      <th>Education_level_level_1</th>\n",
       "      <th>Education_level_level_2</th>\n",
       "      <th>Education_level_level_3</th>\n",
       "      <th>Education_level_level_4</th>\n",
       "      <th>Education_level_level_5</th>\n",
       "    </tr>\n",
       "  </thead>\n",
       "  <tbody>\n",
       "    <tr>\n",
       "      <th>0</th>\n",
       "      <td>1</td>\n",
       "      <td>1.256981</td>\n",
       "      <td>2</td>\n",
       "      <td>1.256981</td>\n",
       "      <td>0.707107</td>\n",
       "      <td>33</td>\n",
       "      <td>0</td>\n",
       "      <td>3.08</td>\n",
       "      <td>12</td>\n",
       "      <td>6</td>\n",
       "      <td>4</td>\n",
       "      <td>2</td>\n",
       "      <td>6</td>\n",
       "      <td>3</td>\n",
       "      <td>7</td>\n",
       "      <td>84.02</td>\n",
       "      <td>0.0</td>\n",
       "      <td>0</td>\n",
       "      <td>0</td>\n",
       "      <td>0</td>\n",
       "      <td>0</td>\n",
       "      <td>0</td>\n",
       "      <td>0</td>\n",
       "      <td>1</td>\n",
       "      <td>0</td>\n",
       "      <td>0</td>\n",
       "    </tr>\n",
       "    <tr>\n",
       "      <th>1</th>\n",
       "      <td>1</td>\n",
       "      <td>1.224745</td>\n",
       "      <td>2</td>\n",
       "      <td>1.224745</td>\n",
       "      <td>1.256981</td>\n",
       "      <td>30</td>\n",
       "      <td>0</td>\n",
       "      <td>3.31</td>\n",
       "      <td>7</td>\n",
       "      <td>2</td>\n",
       "      <td>2</td>\n",
       "      <td>2</td>\n",
       "      <td>0</td>\n",
       "      <td>1</td>\n",
       "      <td>0</td>\n",
       "      <td>63.74</td>\n",
       "      <td>0.0</td>\n",
       "      <td>1</td>\n",
       "      <td>0</td>\n",
       "      <td>1</td>\n",
       "      <td>0</td>\n",
       "      <td>0</td>\n",
       "      <td>0</td>\n",
       "      <td>0</td>\n",
       "      <td>1</td>\n",
       "      <td>0</td>\n",
       "    </tr>\n",
       "    <tr>\n",
       "      <th>2</th>\n",
       "      <td>1</td>\n",
       "      <td>0.500000</td>\n",
       "      <td>2</td>\n",
       "      <td>0.500000</td>\n",
       "      <td>1.081665</td>\n",
       "      <td>32</td>\n",
       "      <td>1</td>\n",
       "      <td>3.44</td>\n",
       "      <td>10</td>\n",
       "      <td>4</td>\n",
       "      <td>2</td>\n",
       "      <td>2</td>\n",
       "      <td>0</td>\n",
       "      <td>2</td>\n",
       "      <td>1</td>\n",
       "      <td>88.19</td>\n",
       "      <td>1.0</td>\n",
       "      <td>0</td>\n",
       "      <td>0</td>\n",
       "      <td>1</td>\n",
       "      <td>1</td>\n",
       "      <td>0</td>\n",
       "      <td>0</td>\n",
       "      <td>0</td>\n",
       "      <td>1</td>\n",
       "      <td>0</td>\n",
       "    </tr>\n",
       "    <tr>\n",
       "      <th>3</th>\n",
       "      <td>1</td>\n",
       "      <td>1.256981</td>\n",
       "      <td>2</td>\n",
       "      <td>1.256981</td>\n",
       "      <td>1.802776</td>\n",
       "      <td>31</td>\n",
       "      <td>1</td>\n",
       "      <td>0.00</td>\n",
       "      <td>7</td>\n",
       "      <td>3</td>\n",
       "      <td>1</td>\n",
       "      <td>3</td>\n",
       "      <td>0</td>\n",
       "      <td>3</td>\n",
       "      <td>0</td>\n",
       "      <td>25.94</td>\n",
       "      <td>0.0</td>\n",
       "      <td>0</td>\n",
       "      <td>0</td>\n",
       "      <td>1</td>\n",
       "      <td>1</td>\n",
       "      <td>0</td>\n",
       "      <td>0</td>\n",
       "      <td>0</td>\n",
       "      <td>1</td>\n",
       "      <td>0</td>\n",
       "    </tr>\n",
       "    <tr>\n",
       "      <th>4</th>\n",
       "      <td>1</td>\n",
       "      <td>1.352775</td>\n",
       "      <td>2</td>\n",
       "      <td>1.352775</td>\n",
       "      <td>1.224745</td>\n",
       "      <td>36</td>\n",
       "      <td>0</td>\n",
       "      <td>3.34</td>\n",
       "      <td>14</td>\n",
       "      <td>5</td>\n",
       "      <td>3</td>\n",
       "      <td>2</td>\n",
       "      <td>0</td>\n",
       "      <td>3</td>\n",
       "      <td>0</td>\n",
       "      <td>82.32</td>\n",
       "      <td>0.0</td>\n",
       "      <td>1</td>\n",
       "      <td>0</td>\n",
       "      <td>0</td>\n",
       "      <td>1</td>\n",
       "      <td>0</td>\n",
       "      <td>0</td>\n",
       "      <td>0</td>\n",
       "      <td>1</td>\n",
       "      <td>0</td>\n",
       "    </tr>\n",
       "  </tbody>\n",
       "</table>\n",
       "</div>"
      ],
      "text/plain": [
       "   job_level  job_duration_in_current_job_level  person_level  \\\n",
       "0          1                           1.256981             2   \n",
       "1          1                           1.224745             2   \n",
       "2          1                           0.500000             2   \n",
       "3          1                           1.256981             2   \n",
       "4          1                           1.352775             2   \n",
       "\n",
       "   job_duration_in_current_person_level  job_duration_in_current_branch  age  \\\n",
       "0                              1.256981                        0.707107   33   \n",
       "1                              1.224745                        1.256981   30   \n",
       "2                              0.500000                        1.081665   32   \n",
       "3                              1.256981                        1.802776   31   \n",
       "4                              1.352775                        1.224745   36   \n",
       "\n",
       "   number_of_dependences   GPA  year_graduated  job_duration_from_training  \\\n",
       "0                      0  3.08              12                           6   \n",
       "1                      0  3.31               7                           2   \n",
       "2                      1  3.44              10                           4   \n",
       "3                      1  0.00               7                           3   \n",
       "4                      0  3.34              14                           5   \n",
       "\n",
       "   branch_rotation  job_rotation  assign_of_otherposition  annual leave  \\\n",
       "0                4             2                        6             3   \n",
       "1                2             2                        0             1   \n",
       "2                2             2                        0             2   \n",
       "3                1             3                        0             3   \n",
       "4                3             2                        0             3   \n",
       "\n",
       "   sick_leaves  Last_achievement_%  Achievement_above_100%_during3quartal  \\\n",
       "0            7               84.02                                    0.0   \n",
       "1            0               63.74                                    0.0   \n",
       "2            1               88.19                                    1.0   \n",
       "3            0               25.94                                    0.0   \n",
       "4            0               82.32                                    0.0   \n",
       "\n",
       "   Employee_type_RM_type_B  Employee_type_RM_type_C  gender_2  \\\n",
       "0                        0                        0         0   \n",
       "1                        1                        0         1   \n",
       "2                        0                        0         1   \n",
       "3                        0                        0         1   \n",
       "4                        1                        0         0   \n",
       "\n",
       "   marital_status_maried(Y/N)_Y  Education_level_level_1  \\\n",
       "0                             0                        0   \n",
       "1                             0                        0   \n",
       "2                             1                        0   \n",
       "3                             1                        0   \n",
       "4                             1                        0   \n",
       "\n",
       "   Education_level_level_2  Education_level_level_3  Education_level_level_4  \\\n",
       "0                        0                        1                        0   \n",
       "1                        0                        0                        1   \n",
       "2                        0                        0                        1   \n",
       "3                        0                        0                        1   \n",
       "4                        0                        0                        1   \n",
       "\n",
       "   Education_level_level_5  \n",
       "0                        0  \n",
       "1                        0  \n",
       "2                        0  \n",
       "3                        0  \n",
       "4                        0  "
      ]
     },
     "execution_count": 112,
     "metadata": {},
     "output_type": "execute_result"
    }
   ],
   "source": [
    "X_test.head()"
   ]
  },
  {
   "cell_type": "code",
   "execution_count": 113,
   "id": "ideal-hungary",
   "metadata": {},
   "outputs": [],
   "source": [
    "y_test_pred_proba = rf.predict_proba(X_test)[:,1]"
   ]
  },
  {
   "cell_type": "code",
   "execution_count": 114,
   "id": "persistent-missile",
   "metadata": {},
   "outputs": [
    {
     "data": {
      "text/plain": [
       "array([0.1775, 0.11  , 0.41  , ..., 0.3125, 0.1725, 0.0675])"
      ]
     },
     "execution_count": 114,
     "metadata": {},
     "output_type": "execute_result"
    }
   ],
   "source": [
    "y_test_pred_proba"
   ]
  },
  {
   "cell_type": "code",
   "execution_count": 115,
   "id": "portuguese-innocent",
   "metadata": {},
   "outputs": [],
   "source": [
    "submission = pd.Series(y_test_pred_proba, name='Best Performance')"
   ]
  },
  {
   "cell_type": "code",
   "execution_count": 116,
   "id": "engaging-chapel",
   "metadata": {},
   "outputs": [
    {
     "data": {
      "text/plain": [
       "0       0.1775\n",
       "1       0.1100\n",
       "2       0.4100\n",
       "3       0.1625\n",
       "4       0.0950\n",
       "         ...  \n",
       "5995    0.1250\n",
       "5996    0.0950\n",
       "5997    0.3125\n",
       "5998    0.1725\n",
       "5999    0.0675\n",
       "Name: Best Performance, Length: 6000, dtype: float64"
      ]
     },
     "execution_count": 116,
     "metadata": {},
     "output_type": "execute_result"
    }
   ],
   "source": [
    "submission"
   ]
  },
  {
   "cell_type": "code",
   "execution_count": 117,
   "id": "given-miniature",
   "metadata": {},
   "outputs": [],
   "source": [
    "submission.to_csv('Submission 21-Feb #1.csv', index_label = 'index')"
   ]
  },
  {
   "cell_type": "code",
   "execution_count": null,
   "id": "respective-exclusion",
   "metadata": {},
   "outputs": [],
   "source": []
  }
 ],
 "metadata": {
  "kernelspec": {
   "display_name": "Python 3",
   "language": "python",
   "name": "python3"
  },
  "language_info": {
   "codemirror_mode": {
    "name": "ipython",
    "version": 3
   },
   "file_extension": ".py",
   "mimetype": "text/x-python",
   "name": "python",
   "nbconvert_exporter": "python",
   "pygments_lexer": "ipython3",
   "version": "3.8.5"
  }
 },
 "nbformat": 4,
 "nbformat_minor": 5
}
